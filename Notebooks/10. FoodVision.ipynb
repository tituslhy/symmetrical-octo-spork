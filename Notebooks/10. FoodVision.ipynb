{
 "cells": [
  {
   "attachments": {},
   "cell_type": "markdown",
   "metadata": {},
   "source": [
    "# FoodVision has 101 food categories. \n",
    "We've had much success with FoodVision mini, it's now time to tackle the big guy."
   ]
  },
  {
   "cell_type": "code",
   "execution_count": 1,
   "metadata": {},
   "outputs": [
    {
     "name": "stdout",
     "output_type": "stream",
     "text": [
      "PyTorch version:  2.0.0\n",
      "Torchvision version:  0.15.2a0\n"
     ]
    }
   ],
   "source": [
    "import os\n",
    "from pathlib import Path\n",
    "\n",
    "import sys\n",
    "sys.path.append(\"../\")\n",
    "from src.utils import get_device, plot_loss_curves\n",
    "from going_modular import data_setup, engine\n",
    "from going_modular.get_data import get_data\n",
    "from going_modular.utils import save_model\n",
    "\n",
    "import numpy as np\n",
    "import pandas as pd\n",
    "import matplotlib.pyplot as plt\n",
    "\n",
    "from PIL import Image\n",
    "\n",
    "import torch\n",
    "import torchvision\n",
    "from torch import nn\n",
    "from torch.utils.data import DataLoader\n",
    "from torchvision import datasets, transforms\n",
    "from torchinfo import summary\n",
    "\n",
    "from tqdm.notebook import tqdm\n",
    "\n",
    "print(\"PyTorch version: \",torch.__version__)\n",
    "print(\"Torchvision version: \",torchvision.__version__)"
   ]
  },
  {
   "attachments": {},
   "cell_type": "markdown",
   "metadata": {},
   "source": [
    "## Load model and transforms\n",
    "Since we're working with a large dataset, we may want to introduce data augmentation techniques. Since we are working with a large number fo classes,let's use TrivialAugment as the data augmentation technique during model training."
   ]
  },
  {
   "cell_type": "code",
   "execution_count": 122,
   "metadata": {},
   "outputs": [
    {
     "data": {
      "text/plain": [
       "============================================================================================================================================\n",
       "Layer (type (var_name))                                      Input Shape          Output Shape         Param #              Trainable\n",
       "============================================================================================================================================\n",
       "EfficientNet (EfficientNet)                                  [1, 3, 224, 224]     [1, 101]             --                   Partial\n",
       "├─Sequential (features)                                      [1, 3, 224, 224]     [1, 1408, 7, 7]      --                   False\n",
       "│    └─Conv2dNormActivation (0)                              [1, 3, 224, 224]     [1, 32, 112, 112]    --                   False\n",
       "│    │    └─Conv2d (0)                                       [1, 3, 224, 224]     [1, 32, 112, 112]    (864)                False\n",
       "│    │    └─BatchNorm2d (1)                                  [1, 32, 112, 112]    [1, 32, 112, 112]    (64)                 False\n",
       "│    │    └─SiLU (2)                                         [1, 32, 112, 112]    [1, 32, 112, 112]    --                   --\n",
       "│    └─Sequential (1)                                        [1, 32, 112, 112]    [1, 16, 112, 112]    --                   False\n",
       "│    │    └─MBConv (0)                                       [1, 32, 112, 112]    [1, 16, 112, 112]    (1,448)              False\n",
       "│    │    └─MBConv (1)                                       [1, 16, 112, 112]    [1, 16, 112, 112]    (612)                False\n",
       "│    └─Sequential (2)                                        [1, 16, 112, 112]    [1, 24, 56, 56]      --                   False\n",
       "│    │    └─MBConv (0)                                       [1, 16, 112, 112]    [1, 24, 56, 56]      (6,004)              False\n",
       "│    │    └─MBConv (1)                                       [1, 24, 56, 56]      [1, 24, 56, 56]      (10,710)             False\n",
       "│    │    └─MBConv (2)                                       [1, 24, 56, 56]      [1, 24, 56, 56]      (10,710)             False\n",
       "│    └─Sequential (3)                                        [1, 24, 56, 56]      [1, 48, 28, 28]      --                   False\n",
       "│    │    └─MBConv (0)                                       [1, 24, 56, 56]      [1, 48, 28, 28]      (16,518)             False\n",
       "│    │    └─MBConv (1)                                       [1, 48, 28, 28]      [1, 48, 28, 28]      (43,308)             False\n",
       "│    │    └─MBConv (2)                                       [1, 48, 28, 28]      [1, 48, 28, 28]      (43,308)             False\n",
       "│    └─Sequential (4)                                        [1, 48, 28, 28]      [1, 88, 14, 14]      --                   False\n",
       "│    │    └─MBConv (0)                                       [1, 48, 28, 28]      [1, 88, 14, 14]      (50,300)             False\n",
       "│    │    └─MBConv (1)                                       [1, 88, 14, 14]      [1, 88, 14, 14]      (123,750)            False\n",
       "│    │    └─MBConv (2)                                       [1, 88, 14, 14]      [1, 88, 14, 14]      (123,750)            False\n",
       "│    │    └─MBConv (3)                                       [1, 88, 14, 14]      [1, 88, 14, 14]      (123,750)            False\n",
       "│    └─Sequential (5)                                        [1, 88, 14, 14]      [1, 120, 14, 14]     --                   False\n",
       "│    │    └─MBConv (0)                                       [1, 88, 14, 14]      [1, 120, 14, 14]     (149,158)            False\n",
       "│    │    └─MBConv (1)                                       [1, 120, 14, 14]     [1, 120, 14, 14]     (237,870)            False\n",
       "│    │    └─MBConv (2)                                       [1, 120, 14, 14]     [1, 120, 14, 14]     (237,870)            False\n",
       "│    │    └─MBConv (3)                                       [1, 120, 14, 14]     [1, 120, 14, 14]     (237,870)            False\n",
       "│    └─Sequential (6)                                        [1, 120, 14, 14]     [1, 208, 7, 7]       --                   False\n",
       "│    │    └─MBConv (0)                                       [1, 120, 14, 14]     [1, 208, 7, 7]       (301,406)            False\n",
       "│    │    └─MBConv (1)                                       [1, 208, 7, 7]       [1, 208, 7, 7]       (686,868)            False\n",
       "│    │    └─MBConv (2)                                       [1, 208, 7, 7]       [1, 208, 7, 7]       (686,868)            False\n",
       "│    │    └─MBConv (3)                                       [1, 208, 7, 7]       [1, 208, 7, 7]       (686,868)            False\n",
       "│    │    └─MBConv (4)                                       [1, 208, 7, 7]       [1, 208, 7, 7]       (686,868)            False\n",
       "│    └─Sequential (7)                                        [1, 208, 7, 7]       [1, 352, 7, 7]       --                   False\n",
       "│    │    └─MBConv (0)                                       [1, 208, 7, 7]       [1, 352, 7, 7]       (846,900)            False\n",
       "│    │    └─MBConv (1)                                       [1, 352, 7, 7]       [1, 352, 7, 7]       (1,888,920)          False\n",
       "│    └─Conv2dNormActivation (8)                              [1, 352, 7, 7]       [1, 1408, 7, 7]      --                   False\n",
       "│    │    └─Conv2d (0)                                       [1, 352, 7, 7]       [1, 1408, 7, 7]      (495,616)            False\n",
       "│    │    └─BatchNorm2d (1)                                  [1, 1408, 7, 7]      [1, 1408, 7, 7]      (2,816)              False\n",
       "│    │    └─SiLU (2)                                         [1, 1408, 7, 7]      [1, 1408, 7, 7]      --                   --\n",
       "├─AdaptiveAvgPool2d (avgpool)                                [1, 1408, 7, 7]      [1, 1408, 1, 1]      --                   --\n",
       "├─Sequential (classifier)                                    [1, 1408]            [1, 101]             --                   True\n",
       "│    └─Dropout (0)                                           [1, 1408]            [1, 1408]            --                   --\n",
       "│    └─Linear (1)                                            [1, 1408]            [1, 101]             142,309              True\n",
       "============================================================================================================================================\n",
       "Total params: 7,843,303\n",
       "Trainable params: 142,309\n",
       "Non-trainable params: 7,700,994\n",
       "Total mult-adds (Units.MEGABYTES): 657.78\n",
       "============================================================================================================================================\n",
       "Input size (MB): 0.60\n",
       "Forward/backward pass size (MB): 156.80\n",
       "Params size (MB): 31.37\n",
       "Estimated Total Size (MB): 188.77\n",
       "============================================================================================================================================"
      ]
     },
     "execution_count": 122,
     "metadata": {},
     "output_type": "execute_result"
    }
   ],
   "source": [
    "def create_effnetb2_model(num_classes: int = 3,\n",
    "                          seed: int = 42):\n",
    "    effnetb2_weights = torchvision.models.EfficientNet_B2_Weights.DEFAULT\n",
    "    test_transforms = effnetb2_weights.transforms()\n",
    "    train_transforms = torchvision.transforms.Compose([\n",
    "        torchvision.transforms.TrivialAugmentWide(),\n",
    "        test_transforms])\n",
    "    effnetb2 = torchvision.models.efficientnet_b2(weights=effnetb2_weights)\n",
    "    for param in effnetb2.parameters():\n",
    "        param.requires_grad = False\n",
    "    torch.manual_seed(seed)\n",
    "    effnetb2.classifier = nn.Sequential(\n",
    "        nn.Dropout(p = 0.3, inplace = True),\n",
    "        nn.Linear(in_features = 1408, out_features = num_classes)\n",
    "    )\n",
    "    return effnetb2, train_transforms, test_transforms\n",
    "\n",
    "model, train_transforms, test_transforms = create_effnetb2_model(num_classes = 101)\n",
    "summary(model, \n",
    "        input_size=(1, 3, 224, 224),\n",
    "        col_names=[\"input_size\", \"output_size\", \"num_params\", \"trainable\"],\n",
    "        col_width=20,\n",
    "        row_settings=[\"var_names\"])"
   ]
  },
  {
   "cell_type": "code",
   "execution_count": 102,
   "metadata": {},
   "outputs": [
    {
     "data": {
      "text/plain": [
       "(Compose(\n",
       "     TrivialAugmentWide(num_magnitude_bins=31, interpolation=InterpolationMode.NEAREST, fill=None)\n",
       "     ImageClassification(\n",
       "     crop_size=[288]\n",
       "     resize_size=[288]\n",
       "     mean=[0.485, 0.456, 0.406]\n",
       "     std=[0.229, 0.224, 0.225]\n",
       "     interpolation=InterpolationMode.BICUBIC\n",
       " )\n",
       " ),\n",
       " ImageClassification(\n",
       "     crop_size=[288]\n",
       "     resize_size=[288]\n",
       "     mean=[0.485, 0.456, 0.406]\n",
       "     std=[0.229, 0.224, 0.225]\n",
       "     interpolation=InterpolationMode.BICUBIC\n",
       " ))"
      ]
     },
     "execution_count": 102,
     "metadata": {},
     "output_type": "execute_result"
    }
   ],
   "source": [
    "train_transforms, test_transforms"
   ]
  },
  {
   "attachments": {},
   "cell_type": "markdown",
   "metadata": {},
   "source": [
    "## Get FoodVision 101 data"
   ]
  },
  {
   "cell_type": "code",
   "execution_count": 9,
   "metadata": {},
   "outputs": [
    {
     "name": "stdout",
     "output_type": "stream",
     "text": [
      "Downloading https://data.vision.ee.ethz.ch/cvl/food-101.tar.gz to data/food-101.tar.gz\n"
     ]
    },
    {
     "name": "stderr",
     "output_type": "stream",
     "text": [
      "100%|██████████| 4996278331/4996278331 [19:44<00:00, 4219134.36it/s] \n"
     ]
    },
    {
     "name": "stdout",
     "output_type": "stream",
     "text": [
      "Extracting data/food-101.tar.gz to data\n"
     ]
    }
   ],
   "source": [
    "# Setup data directory\n",
    "data_dir = Path(\"data\")\n",
    "\n",
    "# Get training data (750 images per class for 101 classes)\n",
    "train_data = datasets.Food101(root = data_dir,\n",
    "                              split = \"train\",\n",
    "                              transform = train_transforms,\n",
    "                              download = True)\n",
    "\n",
    "# Get testing data (250 images per class for 101 classes)\n",
    "test_data = datasets.Food101(root = data_dir,\n",
    "                             split = \"test\",\n",
    "                             transform = test_transforms,\n",
    "                             download = True)"
   ]
  },
  {
   "cell_type": "code",
   "execution_count": 11,
   "metadata": {},
   "outputs": [
    {
     "data": {
      "text/plain": [
       "['apple_pie',\n",
       " 'baby_back_ribs',\n",
       " 'baklava',\n",
       " 'beef_carpaccio',\n",
       " 'beef_tartare',\n",
       " 'beet_salad',\n",
       " 'beignets',\n",
       " 'bibimbap',\n",
       " 'bread_pudding',\n",
       " 'breakfast_burrito']"
      ]
     },
     "execution_count": 11,
     "metadata": {},
     "output_type": "execute_result"
    }
   ],
   "source": [
    "food101_class_names = train_data.classes\n",
    "food101_class_names[:10]"
   ]
  },
  {
   "attachments": {},
   "cell_type": "markdown",
   "metadata": {},
   "source": [
    "## Training the model on a subset of the FoodVision 101 data\n",
    "We're going to aim to beat the Food101 paper's best results (56.4% test accuracy) based on just 20% of the data - because we don't have the GPU capabilities to train a fullscale model.\n",
    "> Paper link: https://data.vision.ee.ethz.ch/cvl/datasets_extra/food-101/"
   ]
  },
  {
   "cell_type": "code",
   "execution_count": 103,
   "metadata": {},
   "outputs": [],
   "source": [
    "BATCH_SIZE = 32\n",
    "NUM_WORKERS = 2 if os.cpu_count() <= 4 else 4 \n",
    "SEED = 42\n",
    "LR = 1e-3\n",
    "EPOCHS = 10\n",
    "device = get_device()"
   ]
  },
  {
   "cell_type": "code",
   "execution_count": 45,
   "metadata": {},
   "outputs": [],
   "source": [
    "def split_dataset(dataset: torchvision.datasets,\n",
    "                  split_size: float = 0.2,\n",
    "                  seed: int = SEED):\n",
    "    \"\"\"Randomly splits a dataset into 2 proportions based on split_size and seed\n",
    "\n",
    "    Args:\n",
    "        dataset (torchvision.datasets): torchvision.datasets object\n",
    "        split_size (float, optional): Size of random split. Defaults to 0.2.\n",
    "        seed (int, optional): Seed for reproducibility. Defaults to SEED.\n",
    "    \"\"\"\n",
    "    l1 = int(len(dataset) * split_size)\n",
    "    l2 = len(dataset) - l1\n",
    "    print(f\"[INFO] Splitting dataset of length {len(dataset)} into splits of size: {l1} ({int(split_size*100)}%), {l2} ({int((1-split_size)*100)}%)\")\n",
    "    random_split_1, random_split_2 = torch.utils.data.random_split(dataset,\n",
    "                                                                   lengths = [l1, l2],\n",
    "                                                                   generator = torch.manual_seed(SEED))\n",
    "    return random_split_1, random_split_2"
   ]
  },
  {
   "cell_type": "code",
   "execution_count": 46,
   "metadata": {},
   "outputs": [
    {
     "name": "stdout",
     "output_type": "stream",
     "text": [
      "[INFO] Splitting dataset of length 75750 into splits of size: 15150 (20%), 60600 (80%)\n",
      "[INFO] Splitting dataset of length 25250 into splits of size: 5050 (20%), 20200 (80%)\n"
     ]
    },
    {
     "data": {
      "text/plain": [
       "(15150, 5050)"
      ]
     },
     "execution_count": 46,
     "metadata": {},
     "output_type": "execute_result"
    }
   ],
   "source": [
    "train_data_food101_20_percent, _ = split_dataset(dataset = train_data)\n",
    "test_data_food101_20_percent, _ = split_dataset(dataset = test_data)\n",
    "\n",
    "len(train_data_food101_20_percent), len(test_data_food101_20_percent)"
   ]
  },
  {
   "cell_type": "code",
   "execution_count": 47,
   "metadata": {},
   "outputs": [],
   "source": [
    "train_dataloader_food101 = torch.utils.data.DataLoader(train_data_food101_20_percent,\n",
    "                                                       batch_size=BATCH_SIZE,\n",
    "                                                       shuffle=True,\n",
    "                                                       num_workers=NUM_WORKERS)\n",
    "test_dataloader_food101 = torch.utils.data.DataLoader(test_data_food101_20_percent,\n",
    "                                                      batch_size=BATCH_SIZE,\n",
    "                                                      shuffle=False,\n",
    "                                                      num_workers=NUM_WORKERS)"
   ]
  },
  {
   "cell_type": "code",
   "execution_count": 108,
   "metadata": {},
   "outputs": [
    {
     "data": {
      "application/vnd.jupyter.widget-view+json": {
       "model_id": "e8e74935bce64354b3185c93be7e93b9",
       "version_major": 2,
       "version_minor": 0
      },
      "text/plain": [
       "  0%|          | 0/10 [00:00<?, ?it/s]"
      ]
     },
     "metadata": {},
     "output_type": "display_data"
    },
    {
     "name": "stdout",
     "output_type": "stream",
     "text": [
      "Epoch: 1 | train_loss: 3.4702 | train_acc: 0.2762 | test_loss: 2.4381 | test_acc: 0.4875\n",
      "Epoch: 2 | train_loss: 2.4979 | train_acc: 0.4351 | test_loss: 2.0153 | test_acc: 0.5371\n",
      "Epoch: 3 | train_loss: 2.2187 | train_acc: 0.4821 | test_loss: 1.8394 | test_acc: 0.5607\n",
      "Epoch: 4 | train_loss: 2.0594 | train_acc: 0.5064 | test_loss: 1.7645 | test_acc: 0.5707\n",
      "Epoch: 5 | train_loss: 1.9834 | train_acc: 0.5181 | test_loss: 1.7126 | test_acc: 0.5738\n",
      "Epoch: 6 | train_loss: 1.9104 | train_acc: 0.5320 | test_loss: 1.6753 | test_acc: 0.5850\n",
      "Epoch: 7 | train_loss: 1.8527 | train_acc: 0.5427 | test_loss: 1.6414 | test_acc: 0.5862\n",
      "Epoch: 8 | train_loss: 1.8178 | train_acc: 0.5549 | test_loss: 1.6323 | test_acc: 0.5866\n",
      "Epoch: 9 | train_loss: 1.7792 | train_acc: 0.5552 | test_loss: 1.6080 | test_acc: 0.5938\n",
      "Epoch: 10 | train_loss: 1.7530 | train_acc: 0.5618 | test_loss: 1.6287 | test_acc: 0.5869\n"
     ]
    }
   ],
   "source": [
    "torch.manual_seed(SEED)\n",
    "torch.mps.manual_seed(SEED)\n",
    "\n",
    "optimizer = torch.optim.Adam(params = model.parameters(), lr = LR)\n",
    "# loss_fn = torch.nn.CrossEntropyLoss(label_smoothing = 0.1) throws a `NotImplementedError: The operator 'aten::masked_scatter_' is not currently implemented for the MPS device.` \n",
    "loss_fn = torch.nn.CrossEntropyLoss()\n",
    "\n",
    "results = engine.train(model = model.to(device),\n",
    "                       train_dataloader = train_dataloader_food101,\n",
    "                       test_dataloader = test_dataloader_food101,\n",
    "                       optimizer = optimizer,\n",
    "                       loss_fn = loss_fn,\n",
    "                       epochs = EPOCHS,\n",
    "                       device = device)"
   ]
  },
  {
   "attachments": {},
   "cell_type": "markdown",
   "metadata": {},
   "source": [
    "Nice!"
   ]
  },
  {
   "cell_type": "code",
   "execution_count": 109,
   "metadata": {},
   "outputs": [
    {
     "data": {
      "image/png": "[encoded data removed]",
      "text/plain": [
       "<Figure size 1500x700 with 2 Axes>"
      ]
     },
     "metadata": {},
     "output_type": "display_data"
    }
   ],
   "source": [
    "plot_loss_curves(results)"
   ]
  },
  {
   "cell_type": "code",
   "execution_count": 110,
   "metadata": {},
   "outputs": [
    {
     "name": "stdout",
     "output_type": "stream",
     "text": [
      "Saved model to: Models/effnetb2_feature_extractor_food101_20_percent.pth\n"
     ]
    }
   ],
   "source": [
    "effnetb2_food101_model_path = \"effnetb2_feature_extractor_food101_20_percent.pth\" \n",
    "\n",
    "save_model(root_dir = \"Models\",\n",
    "           model_name = effnetb2_food101_model_path,\n",
    "           model = model)"
   ]
  },
  {
   "cell_type": "code",
   "execution_count": 111,
   "metadata": {},
   "outputs": [
    {
     "name": "stdout",
     "output_type": "stream",
     "text": [
      "Pretrained EffNetB2 feature extractor Food101 model size: 30 MB\n"
     ]
    }
   ],
   "source": [
    "# Get the model size in bytes then convert to megabytes\n",
    "pretrained_effnetb2_food101_model_size = Path(\"models\", effnetb2_food101_model_path).stat().st_size // (1024*1024) # division converts bytes to megabytes (roughly) \n",
    "print(f\"Pretrained EffNetB2 feature extractor Food101 model size: {pretrained_effnetb2_food101_model_size} MB\")"
   ]
  },
  {
   "attachments": {},
   "cell_type": "markdown",
   "metadata": {},
   "source": [
    "## App development\n",
    "\n",
    "The file directory will be:\n",
    "```\n",
    "deploy/\n",
    "  FoodVision/\n",
    "    effnetb2_feature_extractor_food101_20_percent.pth\n",
    "    app.py\n",
    "    class_names.txt\n",
    "    examples/\n",
    "      example_1.jpg\n",
    "    model.py\n",
    "    requirements.txt\n",
    "```"
   ]
  },
  {
   "cell_type": "code",
   "execution_count": 112,
   "metadata": {},
   "outputs": [
    {
     "name": "stdout",
     "output_type": "stream",
     "text": [
      "/Users/tituslim/Documents/Personal Learning Folder/Data Science/15. PyTorch Developer Class/symmetrical-octo-spork/Notebooks/demos/deploy\n"
     ]
    }
   ],
   "source": [
    "%cd demos/deploy"
   ]
  },
  {
   "cell_type": "code",
   "execution_count": 54,
   "metadata": {},
   "outputs": [
    {
     "name": "stdout",
     "output_type": "stream",
     "text": [
      "Cloning into 'FoodVision'...\n",
      "remote: Enumerating objects: 4, done.\u001b[K\n",
      "remote: Total 4 (delta 0), reused 0 (delta 0), pack-reused 4\u001b[K\n",
      "Unpacking objects: 100% (4/4), 643 bytes | 214.00 KiB/s, done.\n"
     ]
    }
   ],
   "source": [
    "!git clone https://huggingface.co/spaces/tituslhy/FoodVision"
   ]
  },
  {
   "cell_type": "code",
   "execution_count": 98,
   "metadata": {},
   "outputs": [],
   "source": [
    "foodvision_path = Path(\"./FoodVision\")\n",
    "(foodvision_path/\"examples\").mkdir(parents = True, \n",
    "                                   exist_ok = True)"
   ]
  },
  {
   "attachments": {},
   "cell_type": "markdown",
   "metadata": {},
   "source": [
    "Move sample image to examples folder"
   ]
  },
  {
   "cell_type": "code",
   "execution_count": 100,
   "metadata": {},
   "outputs": [],
   "source": [
    "!mv ../../../../../../../../Desktop/sashimi.png ./FoodVision/examples/sashimi.png"
   ]
  },
  {
   "attachments": {},
   "cell_type": "markdown",
   "metadata": {},
   "source": [
    "Move trained model to app"
   ]
  },
  {
   "cell_type": "code",
   "execution_count": 113,
   "metadata": {},
   "outputs": [],
   "source": [
    "!mv ../../Models/effnetb2_feature_extractor_food101_20_percent.pth ./FoodVision/effnetb2_feature_extractor_food101_20_percent.pth"
   ]
  },
  {
   "attachments": {},
   "cell_type": "markdown",
   "metadata": {},
   "source": [
    "Create class_names.txt for use in the app"
   ]
  },
  {
   "cell_type": "code",
   "execution_count": 114,
   "metadata": {},
   "outputs": [
    {
     "name": "stdout",
     "output_type": "stream",
     "text": [
      "[INFO] Saving Food101 classnames to ./FoodVision/class_names.txt\n"
     ]
    }
   ],
   "source": [
    "filepath = \"./FoodVision/class_names.txt\"\n",
    "with open(filepath, \"w\") as f:\n",
    "    print(f\"[INFO] Saving Food101 classnames to {filepath}\")\n",
    "    f.write(\"\\n\".join(food101_class_names))"
   ]
  },
  {
   "attachments": {},
   "cell_type": "markdown",
   "metadata": {},
   "source": [
    "Create model.py file"
   ]
  },
  {
   "cell_type": "code",
   "execution_count": 115,
   "metadata": {},
   "outputs": [
    {
     "name": "stdout",
     "output_type": "stream",
     "text": [
      "Writing ./FoodVision/model.py\n"
     ]
    }
   ],
   "source": [
    "%%writefile ./FoodVision/model.py\n",
    "\n",
    "import torch\n",
    "import torchvision\n",
    "from torch import nn\n",
    "\n",
    "def create_effnetb2_model(num_classes: int = 101,\n",
    "                          seed: int = 42):\n",
    "    effnetb2_weights = torchvision.models.EfficientNet_B2_Weights.DEFAULT\n",
    "    effnetb2_transforms = effnetb2_weights.transforms()\n",
    "    effnetb2 = torchvision.models.efficientnet_b2(weights=effnetb2_weights)\n",
    "    for param in effnetb2.parameters():\n",
    "        param.requires_grad = False\n",
    "    torch.manual_seed(seed)\n",
    "    effnetb2.classifier = nn.Sequential(\n",
    "        nn.Dropout(p = 0.3, inplace = True),\n",
    "        nn.Linear(in_features = 1408, out_features = num_classes)\n",
    "    )\n",
    "    return effnetb2, effnetb2_transforms"
   ]
  },
  {
   "attachments": {},
   "cell_type": "markdown",
   "metadata": {},
   "source": [
    "Creating app.py"
   ]
  },
  {
   "cell_type": "code",
   "execution_count": 116,
   "metadata": {},
   "outputs": [
    {
     "name": "stdout",
     "output_type": "stream",
     "text": [
      "Writing ./FoodVision/app.py\n"
     ]
    }
   ],
   "source": [
    "%%writefile ./FoodVision/app.py\n",
    "\n",
    "\"\"\"The main parts are:\n",
    "1. Imports and class names setup\n",
    "2. Model and transforms preparation\n",
    "3. Write a predict function for gradio to use\n",
    "4. Write the Gradio app and the launch command\n",
    "\"\"\"\n",
    "import os\n",
    "from typing import Tuple, Dict, List\n",
    "import PIL\n",
    "import torch\n",
    "from torch import nn\n",
    "import torchvision\n",
    "import gradio as gr\n",
    "from timeit import default_timer as timer\n",
    "from model import create_effnetb2_model\n",
    "\n",
    "# Setup class names\n",
    "filepath = \"./class_names.txt\"\n",
    "with open(filepath, \"r\") as f:\n",
    "    class_names = [food_name.strip() for food_name in f.readlines()]\n",
    "    \n",
    "model, transforms = create_effnetb2_model(num_classes = len(class_names))\n",
    "\n",
    "# Load saved weights into the model, and load the model onto the CPU\n",
    "model.load_state_dict(torch.load(f = \"effnetb2_feature_extractor_food101_20_percent.pth\", \n",
    "                                 map_location = torch.device('cpu')))\n",
    "\n",
    "# Write function to run inference on gradio\n",
    "def predict(img: PIL.Image, \n",
    "            model: nn.Module = model,\n",
    "            transforms: torchvision.transforms = transforms,\n",
    "            class_names: List[str] = class_names) -> Tuple[Dict, float]:\n",
    "    \"\"\"Function to predict image class on gradio\n",
    "\n",
    "    Args:\n",
    "        img (np.array): Image as a numpy array\n",
    "        model (nn.Module, optional): Model. Defaults to vit.\n",
    "        class_names (List[str], optional): List of class anmes. Defaults to class_names.\n",
    "\n",
    "    Returns:\n",
    "        Tuple[Dict, float]: Tuplefor further processing on gradio\n",
    "    \"\"\"\n",
    "    start_time = timer()\n",
    "    img = transforms(img).unsqueeze(0) #add batch dimension\n",
    "    model.eval()\n",
    "    with torch.inference_mode():\n",
    "        pred_probs = torch.softmax(model(img), dim = 1)\n",
    "    pred_labels_and_probs = {class_names[i]: float(pred_probs[0][i]) for i in range(len(class_names))}\n",
    "    end_time = timer()\n",
    "    pred_time = round(end_time - start_time, 4)\n",
    "    return pred_labels_and_probs, pred_time\n",
    "\n",
    "# Create example_list\n",
    "example_list = [[\"examples/\" + example] for example in os.listdir(\"examples\")]\n",
    "\n",
    "# Create Gradio App\n",
    "title = 'FoodVision 101 🍔🍣🥩🍕🍦😋'\n",
    "description = \"Using an [EfficientNet](https://arxiv.org/abs/1905.11946) for Image Classification of 101 different food classes\"\n",
    "article = \"Created by [Titus Lim](https://github.com/tituslhy)\"\n",
    "\n",
    "demo = gr.Interface(fn = predict,\n",
    "                    inputs = gr.Image(type = \"pil\"),\n",
    "                    outputs = [gr.Label(num_top_classes = 5, label = \"Predictions\"),\n",
    "                               gr.Number(label = \"Prediction time (s)\")],\n",
    "                    examples 😋= example_list,\n",
    "                    title = title,\n",
    "                    description = description,\n",
    "                    article = article)\n",
    "\n",
    "# Launch demo\n",
    "demo.launch(debug = False, #prints errors locally\n",
    "            )"
   ]
  },
  {
   "attachments": {},
   "cell_type": "markdown",
   "metadata": {},
   "source": [
    "Write requirements.txt"
   ]
  },
  {
   "cell_type": "code",
   "execution_count": 117,
   "metadata": {},
   "outputs": [
    {
     "name": "stdout",
     "output_type": "stream",
     "text": [
      "Writing ./FoodVision/requirements.txt\n"
     ]
    }
   ],
   "source": [
    "%%writefile ./FoodVision/requirements.txt\n",
    "gradio==3.41.2\n",
    "Pillow==9.5.0\n",
    "torch==2.0.1\n",
    "torchvision==0.15.2"
   ]
  },
  {
   "attachments": {},
   "cell_type": "markdown",
   "metadata": {},
   "source": [
    "#### Push files to HuggingFace"
   ]
  },
  {
   "cell_type": "code",
   "execution_count": 118,
   "metadata": {},
   "outputs": [
    {
     "name": "stdout",
     "output_type": "stream",
     "text": [
      "/Users/tituslim/Documents/Personal Learning Folder/Data Science/15. PyTorch Developer Class/symmetrical-octo-spork/Notebooks/demos/deploy/FoodVision\n"
     ]
    }
   ],
   "source": [
    "%cd FoodVision"
   ]
  },
  {
   "attachments": {},
   "cell_type": "markdown",
   "metadata": {},
   "source": [
    "Track large files using Git large file storage (lfs)"
   ]
  },
  {
   "cell_type": "code",
   "execution_count": 120,
   "metadata": {},
   "outputs": [
    {
     "name": "stdout",
     "output_type": "stream",
     "text": [
      "\"*.pth\" already supported\n"
     ]
    }
   ],
   "source": [
    "!git lfs track \"*.pth\"\n",
    "!git add .gitattributes"
   ]
  },
  {
   "cell_type": "code",
   "execution_count": 121,
   "metadata": {},
   "outputs": [
    {
     "name": "stdout",
     "output_type": "stream",
     "text": [
      "[main a2701cf] initial commit\n",
      " 6 files changed, 199 insertions(+)\n",
      " create mode 100644 app.py\n",
      " create mode 100644 class_names.txt\n",
      " create mode 100644 effnetb2_feature_extractor_food101_20_percent.pth\n",
      " create mode 100644 examples/sashimi.png\n",
      " create mode 100644 model.py\n",
      " create mode 100644 requirements.txt\n",
      "Uploading LFS objects: 100% (1/1), 32 MB | 0 B/s, done.                         \n",
      "Enumerating objects: 10, done.\n",
      "Counting objects: 100% (10/10), done.\n",
      "Delta compression using up to 10 threads\n",
      "Compressing objects: 100% (8/8), done.\n",
      "Writing objects: 100% (9/9), 559.71 KiB | 46.64 MiB/s, done.\n",
      "Total 9 (delta 0), reused 0 (delta 0), pack-reused 0\n",
      "remote: \u001b[33m-------------------------------------------------------------------------\u001b[0m\u001b[K\n",
      "remote: \u001b[33mUsing your login/password to authenticate with git on hf.co will be deprecated on 2023/09/01. Please use a personal access token or ssh keys instead. See https://huggingface.co/docs/hub/security-tokens for more information.\u001b[0m\u001b[K\n",
      "remote: \u001b[33m-------------------------------------------------------------------------\u001b[0m\u001b[K\n",
      "To https://huggingface.co/spaces/tituslhy/FoodVision\n",
      "   a05c4f8..a2701cf  main -> main\n"
     ]
    }
   ],
   "source": [
    "!git add *\n",
    "!git commit -m \"initial commit\"\n",
    "!git push"
   ]
  },
  {
   "attachments": {},
   "cell_type": "markdown",
   "metadata": {},
   "source": [
    "#### Play with the app in the notebook"
   ]
  },
  {
   "cell_type": "code",
   "execution_count": null,
   "metadata": {},
   "outputs": [],
   "source": [
    "from IPython import IFrame\n",
    "\n",
    "IFrame(src = \"https://hf.space/embed/tituslhy/FoodVision\",\n",
    "       width = 900,\n",
    "       height = 750)"
   ]
  }
 ],
 "metadata": {
  "kernelspec": {
   "display_name": "deeplearning",
   "language": "python",
   "name": "python3"
  },
  "language_info": {
   "codemirror_mode": {
    "name": "ipython",
    "version": 3
   },
   "file_extension": ".py",
   "mimetype": "text/x-python",
   "name": "python",
   "nbconvert_exporter": "python",
   "pygments_lexer": "ipython3",
   "version": "3.11.5"
  },
  "orig_nbformat": 4,
  "vscode": {
   "interpreter": {
    "hash": "592c8f2936c3bb8c4fbb52cdfc4075c16174c85ffa67c8cedffd3a3aa9257d1d"
   }
  }
 },
 "nbformat": 4,
 "nbformat_minor": 2
}
