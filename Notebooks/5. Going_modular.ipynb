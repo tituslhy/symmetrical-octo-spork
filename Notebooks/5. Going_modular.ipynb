{
  "cells": [
    {
      "cell_type": "markdown",
      "metadata": {
        "id": "xQYISlnJ1ChX"
      },
      "source": [
        "The aim is to turn useful notebook code cells into reusable python files!"
      ]
    },
    {
      "cell_type": "code",
      "execution_count": 1,
      "metadata": {
        "colab": {
          "base_uri": "https://localhost:8080/",
          "height": 35
        },
        "id": "BZQtHQxn1Cha",
        "outputId": "d935a364-1eb0-42d2-ecbd-b79fd600f6b2"
      },
      "outputs": [
        {
          "data": {
            "text/plain": [
              "'/Users/tituslim/Documents/Personal Learning Folder/Data Science/15. PyTorch Developer Class/symmetrical-octo-spork/Notebooks'"
            ]
          },
          "execution_count": 1,
          "metadata": {},
          "output_type": "execute_result"
        }
      ],
      "source": [
        "import os\n",
        "os.getcwd()"
      ]
    },
    {
      "cell_type": "markdown",
      "metadata": {
        "id": "27MS7ofF1Chb"
      },
      "source": [
        "Create datasets and dataloaders using `%%writefile` magic command"
      ]
    },
    {
      "cell_type": "code",
      "execution_count": 2,
      "metadata": {
        "id": "Wm2IGfXz1Chc"
      },
      "outputs": [],
      "source": [
        "# Create directory for going_modular\n",
        "import os\n",
        "if not os.path.exists(\"../going_modular\"):\n",
        "    os.makedirs(\"../going_modular\")\n",
        "else:\n",
        "    print(\"Directory exists\")"
      ]
    },
    {
      "cell_type": "code",
      "execution_count": 1,
      "metadata": {
        "colab": {
          "base_uri": "https://localhost:8080/"
        },
        "id": "2gkzLBCv1Chc",
        "outputId": "3fb840a3-46c3-4349-860e-68f839e88746"
      },
      "outputs": [
        {
          "name": "stdout",
          "output_type": "stream",
          "text": [
            "Overwriting ../going_modular/get_data.py\n"
          ]
        }
      ],
      "source": [
        "%%writefile ../going_modular/get_data.py\n",
        "\"\"\"Extracts pizza steak sushi data file\n",
        "\"\"\"\n",
        "import os\n",
        "from pathlib import Path\n",
        "import requests\n",
        "import zipfile\n",
        "\n",
        "def main(url: str,\n",
        "         data_path: str = \"data\",\n",
        "         image_dir: str = \"pizza_steak_sushi\"):\n",
        "    \n",
        "    data_path = Path(\"data/\")\n",
        "    image_path = data_path/image_dir\n",
        "\n",
        "    if image_path.is_dir():\n",
        "        print(f\"{image_path} directory already exists. Skipping download...\")\n",
        "    else:\n",
        "        print(f\"Creating {image_path} directory...\")\n",
        "        image_path.mkdir(parents=True, exist_ok=True)\n",
        "\n",
        "    # Download data\n",
        "    with open(data_path/\"pizza_steak_sushi.zip\", \"wb\") as f:\n",
        "        request = requests.get(url)\n",
        "        print(\"Downloading pizza_steak_sushi data...\")\n",
        "        f.write(request.content)\n",
        "\n",
        "    # Unzip zip folder\n",
        "    with zipfile.ZipFile(data_path/\"pizza_steak_sushi.zip\", \"r\") as zip_ref:\n",
        "        print(\"Unziping pizza_steak_sushi data...\")\n",
        "        zip_ref.extractall(image_path)\n",
        "    \n",
        "    return {\"status\": \"Data extracted successfully\"}"
      ]
    },
    {
      "cell_type": "code",
      "execution_count": 2,
      "metadata": {
        "colab": {
          "base_uri": "https://localhost:8080/"
        },
        "id": "l9i2pz9d1Chd",
        "outputId": "8e35511f-2bfe-4b10-cee8-c8107eaf78bf"
      },
      "outputs": [
        {
          "name": "stdout",
          "output_type": "stream",
          "text": [
            "Overwriting ../going_modular/data_setup.py\n"
          ]
        }
      ],
      "source": [
        "%%writefile ../going_modular/data_setup.py\n",
        "\"\"\"\n",
        "Contains functionality for creating PyTorch DataLoaders for\n",
        "image classification tasks.\n",
        "\"\"\"\n",
        "import os\n",
        "import sys\n",
        "from typing import Tuple, List\n",
        "import torch\n",
        "from torchvision import datasets, transforms\n",
        "from torch.utils.data import DataLoader\n",
        "\n",
        "NUM_WORKERS = os.cpu_count()\n",
        "\n",
        "def create_dataloaders(\n",
        "    train_dir: str,\n",
        "    test_dir: str,\n",
        "    transform: transforms.Compose,\n",
        "    batch_size: int,\n",
        "    num_workers: int = NUM_WORKERS\n",
        ") -> Tuple[torch.utils.data.DataLoader, \n",
        "           torch.utils.data.DataLoader,\n",
        "           List]:\n",
        "    \"\"\"Creates torch datasets and subsequently dataloaders for training\n",
        "    and testing sets. \n",
        "\n",
        "    Args:\n",
        "        train_dir (str): Filepath to train data\n",
        "        test_dir (str): Filepath to test data\n",
        "        transform (transforms.Compose): torch transforms.Compose object\n",
        "        batch_size: Number of samples per batch in each of the datalaoders\n",
        "        num_workers (int, optional): Defaults to NUM_WORKERS.\n",
        "    \n",
        "    Returns:\n",
        "        Tuple of (train_dataloader, test_dataloader, class_names) where\n",
        "        classnames is a list of the target classes.\n",
        "    \"\"\"\n",
        "    train_data = datasets.ImageFolder(root = train_dir,\n",
        "                                      transform = transform)\n",
        "    class_names = train_data.classes\n",
        "    test_data = datasets.ImageFolder(root = test_dir,\n",
        "                                      transform = transform)\n",
        "    \n",
        "    train_dataloader = DataLoader(train_data,\n",
        "                                  batch_size = batch_size,\n",
        "                                  shuffle = True,\n",
        "                                  num_workers = num_workers,\n",
        "                                  pin_memory = True\n",
        "                                  )\n",
        "    \n",
        "    test_dataloader = DataLoader(test_data,\n",
        "                                  batch_size = batch_size,\n",
        "                                  shuffle = False,\n",
        "                                  num_workers = num_workers,\n",
        "                                  pin_memory = True\n",
        "                                  )\n",
        "    \n",
        "    return train_dataloader, test_dataloader, class_names"
      ]
    },
    {
      "cell_type": "markdown",
      "metadata": {
        "id": "ubk8Lk1q1Chd"
      },
      "source": [
        "Test data_setup.py"
      ]
    },
    {
      "cell_type": "code",
      "execution_count": 2,
      "metadata": {
        "id": "U8MUrZnQ1Che"
      },
      "outputs": [],
      "source": [
        "import sys\n",
        "sys.path.append(\"../\")"
      ]
    },
    {
      "cell_type": "code",
      "execution_count": 3,
      "metadata": {
        "colab": {
          "base_uri": "https://localhost:8080/",
          "height": 478
        },
        "id": "1DDNyG1b1Che",
        "outputId": "ae151249-7562-49e1-f615-047649178c9e"
      },
      "outputs": [
        {
          "data": {
            "text/plain": [
              "['pizza', 'steak', 'sushi']"
            ]
          },
          "execution_count": 3,
          "metadata": {},
          "output_type": "execute_result"
        }
      ],
      "source": [
        "from going_modular import data_setup\n",
        "from torchvision import transforms\n",
        "\n",
        "train_dir = \"./data/pizza_steak_sushi/train/\"\n",
        "test_dir = \"./data/pizza_steak_sushi/test/\"\n",
        "\n",
        "transform = transforms.Compose([\n",
        "    transforms.Resize(size = (224,224)),\n",
        "    transforms.ToTensor()\n",
        "])\n",
        "\n",
        "train_dataloader, test_dataloader, class_names = data_setup.create_dataloaders(\n",
        "    train_dir = train_dir,\n",
        "    test_dir = test_dir,\n",
        "    transform = transform,\n",
        "    batch_size = 32\n",
        ")\n",
        "\n",
        "class_names"
      ]
    },
    {
      "cell_type": "code",
      "execution_count": 3,
      "metadata": {
        "colab": {
          "base_uri": "https://localhost:8080/"
        },
        "id": "0WFvFV6k1Che",
        "outputId": "ebd0aa80-ce70-4c02-e579-b888cbd68226"
      },
      "outputs": [
        {
          "name": "stdout",
          "output_type": "stream",
          "text": [
            "Overwriting ../going_modular/model_builder.py\n"
          ]
        }
      ],
      "source": [
        "%%writefile ../going_modular/model_builder.py\n",
        "\"\"\"Contains pytorch code to develop TinyVGG architecture\n",
        "\"\"\"\n",
        "\n",
        "import torch\n",
        "from torch import nn\n",
        "\n",
        "class TinyVGG(nn.Module):\n",
        "    \"\"\"\n",
        "    Model architecture copying TinyVGG from: \n",
        "    https://poloclub.github.io/cnn-explainer/\n",
        "    \"\"\"\n",
        "    def __init__(self, \n",
        "                 num_channels: int = 3, \n",
        "                 hidden_units: int = 10,\n",
        "                 num_classes: int = 3):\n",
        "        \"\"\"Class constructor\n",
        "\n",
        "        Args:\n",
        "            num_channels (int): Number of color channels\n",
        "            hidden_units (int): Number of hidden units in model\n",
        "            num_classes (int): Number of labels. Set to 3 for pizza, steak, sushi\n",
        "        \"\"\"\n",
        "        super().__init__()\n",
        "        self.conv_block_1 = nn.Sequential(\n",
        "            nn.Conv2d(in_channels=num_channels, \n",
        "                      out_channels=hidden_units, \n",
        "                      kernel_size=3, # how big is the square that's going over the image?\n",
        "                      stride=1, # default\n",
        "                      padding=1), # options = \"valid\" (no padding) or \"same\" (output has same shape as input) or int for specific number \n",
        "            nn.ReLU(),\n",
        "            nn.Conv2d(in_channels=hidden_units, \n",
        "                      out_channels=hidden_units,\n",
        "                      kernel_size=3,\n",
        "                      stride=1,\n",
        "                      padding=1),\n",
        "            nn.ReLU(),\n",
        "            nn.MaxPool2d(kernel_size=2,\n",
        "                         stride=2) # default stride value is same as kernel_size\n",
        "        )\n",
        "        self.conv_block_2 = nn.Sequential(\n",
        "            nn.Conv2d(hidden_units, hidden_units, kernel_size=3, padding=1),\n",
        "            nn.ReLU(),\n",
        "            nn.Conv2d(hidden_units, hidden_units, kernel_size=3, padding=1),\n",
        "            nn.ReLU(),\n",
        "            nn.MaxPool2d(2)\n",
        "        )\n",
        "        self.classifier = nn.Sequential(\n",
        "            nn.Flatten(),\n",
        "            # Where did this in_features shape come from? \n",
        "            # It's because each layer of our network compresses and changes the shape of our inputs data.\n",
        "            nn.Linear(in_features=hidden_units*16*16,\n",
        "                      out_features=num_classes)\n",
        "        )\n",
        "    def forward(self, x: torch.Tensor) -> torch.Tensor:\n",
        "        \"\"\"Overrides forward method from parent. Runs a forward pass\n",
        "\n",
        "        Args:\n",
        "            x (torch.Tensor): Image data in tensor format\n",
        "\n",
        "        Returns:\n",
        "            torch.Tensor: Logits\n",
        "        \"\"\"\n",
        "        # x = self.conv_block_1(x)\n",
        "        # # print(x.shape)\n",
        "        # x = self.conv_block_2(x)\n",
        "        # # print(x.shape)\n",
        "        # x = self.classifier(x)\n",
        "        # # print(x.shape)\n",
        "        return self.classifier(self.conv_block_2(self.conv_block_1(x))) # <- leverage the benefits of operator fusion\n",
        "\n",
        "class TinyVGG2(nn.Module):\n",
        "  def __init__(self, num_color_channels: int, hidden_units: int, num_classes: int):\n",
        "    super().__init__()\n",
        "    self.conv_block_1 = nn.Sequential(\n",
        "        nn.Conv2d(in_channels = num_color_channels,\n",
        "                  out_channels = hidden_units,\n",
        "                  kernel_size = 3,\n",
        "                  stride = 1,\n",
        "                  padding = 1),\n",
        "        nn.ReLU(),\n",
        "        nn.Conv2d(in_channels = hidden_units,\n",
        "                  out_channels = hidden_units,\n",
        "                  kernel_size = 3,\n",
        "                  stride = 1,\n",
        "                  padding = 1),\n",
        "        nn.ReLU(),\n",
        "        nn.MaxPool2d(kernel_size = 2,\n",
        "                     stride = 2)\n",
        "    )\n",
        "    self.conv_block_2 = nn.Sequential(\n",
        "        nn.Conv2d(hidden_units, hidden_units, kernel_size = 3, padding = 1),\n",
        "        nn.ReLU(),\n",
        "        nn.Conv2d(hidden_units, hidden_units, kernel_size = 3, padding =1),\n",
        "        nn.ReLU(),\n",
        "        nn.MaxPool2d(2)\n",
        "    )\n",
        "    self.classifier = nn.Sequential(\n",
        "        nn.Flatten(),\n",
        "        nn.Linear(in_features = hidden_units * 56 * 56,\n",
        "                  out_features = num_classes)\n",
        "    )\n",
        "  def forward(self, x: torch.Tensor):\n",
        "      return self.classifier(self.conv_block_2(self.conv_block_1(x)))"
      ]
    },
    {
      "cell_type": "code",
      "execution_count": null,
      "metadata": {
        "id": "92e0QAR71Chf"
      },
      "outputs": [],
      "source": [
        "import torch\n",
        "from torchinfo import summary\n",
        "from going_modular import model_builder\n",
        "sys.path.append(os.path.join(os.getcwd(),\n",
        "                             \"../src\"))\n",
        "from utils import get_device\n",
        "device = get_device()\n",
        "\n",
        "torch.manual_seed(42)\n",
        "torch.mps.manual_seed(42)\n",
        "model = model_builder.TinyVGG2(num_color_channels=3,\n",
        "                               hidden_units = 20,\n",
        "                               num_classes = len(class_names)).to(device)\n",
        "summary(model, input_size = [32, 3, 224, 224])"
      ]
    },
    {
      "cell_type": "code",
      "execution_count": null,
      "metadata": {
        "id": "LEjUfY_p1Chf"
      },
      "outputs": [],
      "source": [
        "img, label = next(iter(train_dataloader))\n",
        "img.shape, label.shape"
      ]
    },
    {
      "cell_type": "code",
      "execution_count": null,
      "metadata": {
        "id": "4Ykgs8Er1Chg"
      },
      "outputs": [],
      "source": [
        "out = model(img)\n",
        "type(out), out.shape"
      ]
    },
    {
      "cell_type": "markdown",
      "metadata": {
        "id": "dZmJUOG51Chg"
      },
      "source": [
        "Wrting our training and testing step functions into a python script"
      ]
    },
    {
      "cell_type": "code",
      "execution_count": 4,
      "metadata": {
        "colab": {
          "base_uri": "https://localhost:8080/"
        },
        "id": "veSYjrBM1Chg",
        "outputId": "aa924178-5d26-4ad1-ebd8-b2e765e2e345"
      },
      "outputs": [
        {
          "name": "stdout",
          "output_type": "stream",
          "text": [
            "Overwriting ../going_modular/engine.py\n"
          ]
        }
      ],
      "source": [
        "%%writefile ../going_modular/engine.py\n",
        "\"\"\"Contains functions for training and testing a PyTorch model\n",
        "\"\"\"\n",
        "\n",
        "import torch\n",
        "from torch import nn\n",
        "from typing import Dict, List, Tuple\n",
        "from tqdm.auto import tqdm\n",
        "from collections import defaultdict\n",
        "\n",
        "def train_step(model: torch.nn.Module,\n",
        "               dataloader: torch.utils.data.DataLoader,\n",
        "               loss_fn: torch.nn.Module,\n",
        "               optimizer: torch.optim.Optimizer,\n",
        "               device: str) -> Tuple[float, float]:\n",
        "    \"\"\"Helper function to train pytorch model on device\n",
        "    and acquire training metrics per epoch\n",
        "\n",
        "    Args:\n",
        "        model (torch.nn.Module): instantiated torch model\n",
        "        dataloader (torch.utils.data.DataLoader)\n",
        "        loss_fn (torch.nn.Module)\n",
        "        optimizer (torch.optim.Optimizer) \n",
        "        device (str): Torch device\n",
        "\n",
        "    Returns:\n",
        "        Average training loss and training accuracy per epoch\n",
        "    \"\"\"\n",
        "    \n",
        "    train_loss, train_acc = 0,0\n",
        "    model.train()\n",
        "\n",
        "    for batch, (X, y) in enumerate(dataloader):\n",
        "        \n",
        "        # Forward pass\n",
        "        X, y = X.to(device), y.to(device)\n",
        "        y_pred = model(X) #logits\n",
        "        loss = loss_fn(y_pred, y)\n",
        "        train_loss += loss.item()\n",
        "\n",
        "        # Backpropagation\n",
        "        optimizer.zero_grad()\n",
        "        loss.backward()\n",
        "        optimizer.step()\n",
        "\n",
        "        # Compute metric across all batches\n",
        "        y_pred_class = torch.argmax(\n",
        "            torch.softmax(y_pred, dim = 1),\n",
        "            dim = 1\n",
        "        )\n",
        "\n",
        "        train_acc += (y_pred_class==y).sum().item()/len(y_pred)\n",
        "    \n",
        "    # Adjust metrics to get average loss and accuracy per batch\n",
        "    train_loss = train_loss / len(dataloader)\n",
        "    train_acc = train_acc /len(dataloader)\n",
        "\n",
        "    return train_loss, train_acc\n",
        "\n",
        "def test_step(model: torch.nn.Module,\n",
        "              dataloader: torch.utils.data.DataLoader,\n",
        "              loss_fn: torch.nn.Module,\n",
        "              device: str) -> Tuple[float, float]:\n",
        "    \"\"\"Runs inference of trained model on test dataset per epoch\n",
        "    and monitors model test metrics.\n",
        "\n",
        "    Args:\n",
        "        model (torch.nn.Module): instantiated torch model\n",
        "        dataloader (torch.utils.data.DataLoader)\n",
        "        loss_fn (torch.nn.Module)\n",
        "        device (str, optional): _description_. Defaults to device.\n",
        "\n",
        "    Returns:\n",
        "        Average test loss and test accuracy per epoch\n",
        "    \"\"\"\n",
        "    \n",
        "    test_loss, test_acc = 0,0\n",
        "    model.eval()\n",
        "    \n",
        "    with torch.inference_mode():\n",
        "        for batch, (X, y) in enumerate(dataloader):\n",
        "            \n",
        "            # Forward pass\n",
        "            X, y = X.to(device), y.to(device)\n",
        "            test_pred = model(X) #logits\n",
        "\n",
        "            # Compute metrics \n",
        "            loss = loss_fn(test_pred, y)\n",
        "            test_loss += loss.item()\n",
        "            test_pred_class = torch.argmax(\n",
        "                torch.softmax(test_pred, dim = 1),\n",
        "                dim = 1\n",
        "            )\n",
        "            test_acc += (test_pred_class == y).sum().item()/len(test_pred_class)\n",
        "    \n",
        "    # Adjust metrics to get average loss and accuracy per batch\n",
        "    test_loss = test_loss/len(dataloader)\n",
        "    test_acc = test_acc/len(dataloader)\n",
        "    \n",
        "    return test_loss, test_acc\n",
        "\n",
        "def train(model: torch.nn.Module,\n",
        "          train_dataloader: torch.utils.data.DataLoader,\n",
        "          test_dataloader: torch.utils.data.DataLoader,\n",
        "          optimizer: torch.optim.Optimizer,\n",
        "          epochs: int,\n",
        "          device: str,\n",
        "          loss_fn: torch.nn.Module = nn.CrossEntropyLoss()): \n",
        "    \"\"\"Wrapper function to train model over specified number of epochs,\n",
        "    model, dataloaders, optimizer and loss function.\n",
        "\n",
        "    Args:\n",
        "        model (torch.nn.Module): instantiated torch model\n",
        "        train_dataloader (torch.utils.data.DataLoader)\n",
        "        test_dataloader (torch.utils.data.DataLoader)\n",
        "        optimizer (torch.optim.Optimizer)\n",
        "        epochs (int): Number of epochs for training\n",
        "        loss_fn (torch.nn.Module, optional) Defaults to nn.CrossEntropyLoss().\n",
        "\n",
        "    Returns:\n",
        "        Dictionary of results\n",
        "    \"\"\"\n",
        "    \n",
        "    # Create storage results dictionary\n",
        "    results = defaultdict(list)\n",
        "\n",
        "    # Loop through training and testing steps for number of epochs\n",
        "    for epoch in tqdm(range(epochs)):\n",
        "        train_loss, train_acc = train_step(model = model,\n",
        "                                           dataloader = train_dataloader,\n",
        "                                           loss_fn = loss_fn,\n",
        "                                           optimizer = optimizer,\n",
        "                                           device = device)\n",
        "        test_loss, test_acc = test_step(model = model,\n",
        "                                        dataloader = test_dataloader,\n",
        "                                        loss_fn = loss_fn,\n",
        "                                        device = device)\n",
        "        print(\n",
        "            f\"Epoch: {epoch+1} | \"\n",
        "            f\"train_loss: {train_loss:.4f} | \"\n",
        "            f\"train_acc: {train_acc:.4f} | \"\n",
        "            f\"test_loss: {test_loss:.4f} | \"\n",
        "            f\"test_acc: {test_acc:.4f}\"\n",
        "        )\n",
        "\n",
        "        results[\"train_loss\"].append(train_loss)\n",
        "        results[\"train_acc\"].append(train_acc)\n",
        "        results[\"test_loss\"].append(test_loss)\n",
        "        results[\"test_acc\"].append(test_acc)\n",
        "    \n",
        "    return results"
      ]
    },
    {
      "cell_type": "code",
      "execution_count": 9,
      "metadata": {
        "colab": {
          "base_uri": "https://localhost:8080/"
        },
        "id": "QEtyH0V51Chg",
        "outputId": "0c820dd5-89f6-461b-a4b1-b3eb809b0e77"
      },
      "outputs": [
        {
          "name": "stdout",
          "output_type": "stream",
          "text": [
            "Train and test functions imported!\n"
          ]
        }
      ],
      "source": [
        "from going_modular import engine\n",
        "print(\"Train and test functions imported!\")"
      ]
    },
    {
      "cell_type": "markdown",
      "metadata": {
        "id": "qqFmPSxa1Chh"
      },
      "source": [
        "Turning our utility functions for saving a model into a python script"
      ]
    },
    {
      "cell_type": "code",
      "execution_count": 5,
      "metadata": {
        "colab": {
          "base_uri": "https://localhost:8080/"
        },
        "id": "rDxzQ3rk1Chh",
        "outputId": "16efb5bb-c6a4-4f89-dc65-5aebc23fb55e"
      },
      "outputs": [
        {
          "name": "stdout",
          "output_type": "stream",
          "text": [
            "Overwriting ../going_modular/utils.py\n"
          ]
        }
      ],
      "source": [
        "%%writefile ../going_modular/utils.py\n",
        "\"\"\"Utility functions for torch driven computer vision projects\n",
        "\"\"\"\n",
        "\n",
        "from pathlib import Path\n",
        "import torch\n",
        "\n",
        "def save_model(root_dir: str,\n",
        "               model_name: str,\n",
        "               model: torch.nn.Module):\n",
        "    \"\"\"Saves a torch model to the given root directory\n",
        "\n",
        "    Args:\n",
        "        root_dir (str): Name of directory to store model\n",
        "        model_name (str): Name of the model\n",
        "        model (torch.nn.Module): Torch model object\n",
        "    \"\"\"\n",
        "    MODEL_PATH = Path(root_dir)\n",
        "    MODEL_PATH.mkdir(parents=True,\n",
        "                     exist_ok = True)\n",
        "    MODEL_NAME = model_name\n",
        "    MODEL_SAVE_PATH = MODEL_PATH / MODEL_NAME\n",
        "\n",
        "    torch.save(obj = model.state_dict(),\n",
        "            f = MODEL_SAVE_PATH)\n",
        "    print(f\"Saved model to: {MODEL_SAVE_PATH}\")"
      ]
    },
    {
      "cell_type": "code",
      "execution_count": 11,
      "metadata": {
        "colab": {
          "base_uri": "https://localhost:8080/"
        },
        "id": "6fbBNoVt1Chh",
        "outputId": "ecfa4574-6c63-41bf-fb2d-8d5615afa587"
      },
      "outputs": [
        {
          "name": "stdout",
          "output_type": "stream",
          "text": [
            "Utils imported!\n"
          ]
        }
      ],
      "source": [
        "from going_modular import utils\n",
        "print(\"Utils imported!\")"
      ]
    },
    {
      "cell_type": "markdown",
      "metadata": {
        "id": "1Dg_9qRI1Chh"
      },
      "source": [
        "Create train.py "
      ]
    },
    {
      "cell_type": "code",
      "execution_count": null,
      "metadata": {
        "id": "tSwUcMN81Chh"
      },
      "outputs": [],
      "source": [
        "import sys\n",
        "sys.path.append(\"../\")\n",
        "from src.utils import get_device\n",
        "device = get_device()\n",
        "device"
      ]
    },
    {
      "cell_type": "code",
      "execution_count": 6,
      "metadata": {
        "colab": {
          "base_uri": "https://localhost:8080/"
        },
        "id": "Fc_UEVPg1Chh",
        "outputId": "f08ed2ac-d973-4fb3-d53b-9668867f3e00"
      },
      "outputs": [
        {
          "name": "stdout",
          "output_type": "stream",
          "text": [
            "Overwriting ../going_modular/train.py\n"
          ]
        }
      ],
      "source": [
        "%%writefile ../going_modular/train.py\n",
        "\"\"\"Trains a PyTorch tinyVGG image classification model\n",
        "using device agnostic code\n",
        "\"\"\"\n",
        "import os\n",
        "import get_data, data_setup, engine, model_builder, utils\n",
        "\n",
        "import sys\n",
        "sys.path.append(\"../\")\n",
        "from src.utils import get_device\n",
        "\n",
        "import torch\n",
        "from torch import nn\n",
        "from torchvision import transforms\n",
        "from timeit import default_timer as timer\n",
        "\n",
        "import argparse\n",
        "\n",
        "parser = argparse.ArgumentParser()\n",
        "parser.add_argument(\"--seed\",\n",
        "                    type = int,\n",
        "                    required = False,\n",
        "                    help = \"Random seed for reproducible experiments\")\n",
        "parser.add_argument(\"--epochs\",\n",
        "                    type = int,\n",
        "                    required = True,\n",
        "                    help = \"Total number of epochs for training\")\n",
        "parser.add_argument(\"--batch_size\",\n",
        "                    type = int,\n",
        "                    required = False,\n",
        "                    default = 32,\n",
        "                    help = \"Batch size for model training\")\n",
        "parser.add_argument(\"--lr\",\n",
        "                    type = float,\n",
        "                    required = True,\n",
        "                    help = \"Learning rate for torch optimizer\")\n",
        "parser.add_argument(\"--workers\",\n",
        "                    type = int,\n",
        "                    required = False,\n",
        "                    default = 0,\n",
        "                    help = \"Number of workers for training\")\n",
        "parser.add_argument(\"--url\",\n",
        "                    type = str,\n",
        "                    required = False,\n",
        "                    default = \"https://github.com/mrdbourke/pytorch-deep-learning/raw/main/data/pizza_steak_sushi.zip\",\n",
        "                    help = \"url for data download\")\n",
        "\n",
        "args = parser.parse_args()\n",
        "\n",
        "#Hyperparameters\n",
        "BATCH_SIZE = args.batch_size\n",
        "LEARNING_RATE = args.lr\n",
        "EPOCHS = args.epochs\n",
        "NUM_WORKERS = args.workers\n",
        "URL = args.url\n",
        "if args.seed:\n",
        "    SEED = args.seed\n",
        "    torch.manual_seed(SEED)\n",
        "\n",
        "HIDDEN_UNITS = 10\n",
        "\n",
        "#Get data\n",
        "data_path = \"data\"\n",
        "image_dir = \"pizza_steak_sushi\"\n",
        "return_ = get_data.main(URL,\n",
        "                        data_path,\n",
        "                        image_dir)\n",
        "\n",
        "#Setup directores\n",
        "train_dir = f\"{data_path}/{image_dir}/train\"\n",
        "test_dir = f\"{data_path}/{image_dir}/test\"\n",
        "\n",
        "#Get device\n",
        "#device = get_device()\n",
        "device = 'cuda'\n",
        "if device == \"mps\":\n",
        "    torch.mps.manual_seed(SEED)\n",
        "elif device == 'cuda':\n",
        "    torch.cuda.manual_seed(SEED)\n",
        "\n",
        "#Create transforms\n",
        "data_transform = transforms.Compose([\n",
        "    transforms.Resize(size = (64,64)),\n",
        "    transforms.ToTensor()\n",
        "])\n",
        "\n",
        "#Create dataloaders and get class names\n",
        "train_dataloader, test_dataloader, class_names = data_setup.create_dataloaders(\n",
        "    train_dir = train_dir,\n",
        "    test_dir = test_dir,\n",
        "    transform = data_transform,\n",
        "    batch_size = BATCH_SIZE,\n",
        "    num_workers = NUM_WORKERS\n",
        ")\n",
        "\n",
        "#Create model\n",
        "model = model_builder.TinyVGG(\n",
        "    num_channels = 3,\n",
        "    hidden_units = HIDDEN_UNITS,\n",
        "    num_classes = 3\n",
        ").to(device)\n",
        "\n",
        "#Setup loss and optimizer\n",
        "loss_fn = nn.CrossEntropyLoss()\n",
        "optimizer = torch.optim.Adam(model.parameters(),\n",
        "                             lr = LEARNING_RATE)\n",
        "\n",
        "#Train model\n",
        "start_time = timer()\n",
        "engine.train(model = model,\n",
        "             train_dataloader = train_dataloader,\n",
        "             test_dataloader = test_dataloader,\n",
        "             loss_fn = loss_fn,\n",
        "             optimizer = optimizer,\n",
        "             epochs = EPOCHS,\n",
        "             device = device)\n",
        "end_time = timer()\n",
        "print(f\"Total training time: {end_time - start_time:.3f} seconds\")\n",
        "\n",
        "#Save model to file\n",
        "utils.save_model(model = model,\n",
        "                 root_dir = \"models\",\n",
        "                 model_name = \"tinyVGG2_pizza_steak_sushi.pth\")\n",
        "\n",
        "print(\"Model saved in models directory as tinyVGG2_pizza_steak_sushi.pth\")"
      ]
    },
    {
      "cell_type": "code",
      "execution_count": 7,
      "metadata": {
        "colab": {
          "base_uri": "https://localhost:8080/",
          "height": 533,
          "referenced_widgets": [
            "f7f7537bdcb9482e822889910655ff0c",
            "f09d3213a06944c1a8fa81274e62eee2",
            "0e46e248c6ec49b4b9ec67557429636b",
            "05ed6b360451403a8eeba88fb9257ac7",
            "bc6ba46d54814130960497101548e274",
            "5cc440ebb4c247f99cbd5b3b93365618",
            "d705e63627ae4d9e93cf543ea5925716",
            "c7405a120d054240bd9ff2d7db9d22c1",
            "2fea18fd6206488f9553a5f45eb94c11",
            "a82b6f68951849d98cf4e90aaa4c61f3",
            "06f5b04dfbc441cf84eae4f98399bba8"
          ]
        },
        "id": "ohvF1o3b1Chh",
        "outputId": "7345e1a0-d9aa-4946-e574-1a78c74f1e1f"
      },
      "outputs": [
        {
          "name": "stdout",
          "output_type": "stream",
          "text": [
            "data/pizza_steak_sushi directory already exists. Skipping download...\n",
            "Downloading pizza_steak_sushi data...\n",
            "Unziping pizza_steak_sushi data...\n"
          ]
        },
        {
          "data": {
            "application/vnd.jupyter.widget-view+json": {
              "model_id": "f7f7537bdcb9482e822889910655ff0c",
              "version_major": 2,
              "version_minor": 0
            },
            "text/plain": [
              "  0%|          | 0/20 [00:00<?, ?it/s]"
            ]
          },
          "metadata": {},
          "output_type": "display_data"
        },
        {
          "name": "stdout",
          "output_type": "stream",
          "text": [
            "Epoch: 1 | train_loss: 1.1078 | train_acc: 0.2578 | test_loss: 1.1360 | test_acc: 0.2604\n",
            "Epoch: 2 | train_loss: 1.0847 | train_acc: 0.4258 | test_loss: 1.1620 | test_acc: 0.1979\n",
            "Epoch: 3 | train_loss: 1.1157 | train_acc: 0.2930 | test_loss: 1.1697 | test_acc: 0.1979\n",
            "Epoch: 4 | train_loss: 1.0956 | train_acc: 0.4141 | test_loss: 1.1385 | test_acc: 0.1979\n",
            "Epoch: 5 | train_loss: 1.0985 | train_acc: 0.2930 | test_loss: 1.1428 | test_acc: 0.1979\n",
            "Epoch: 6 | train_loss: 1.0956 | train_acc: 0.2500 | test_loss: 1.1465 | test_acc: 0.2604\n",
            "Epoch: 7 | train_loss: 1.1188 | train_acc: 0.3047 | test_loss: 1.1420 | test_acc: 0.2812\n",
            "Epoch: 8 | train_loss: 1.1038 | train_acc: 0.3438 | test_loss: 1.1099 | test_acc: 0.1979\n",
            "Epoch: 9 | train_loss: 1.0959 | train_acc: 0.4375 | test_loss: 1.0915 | test_acc: 0.5417\n",
            "Epoch: 10 | train_loss: 1.0894 | train_acc: 0.4023 | test_loss: 1.0731 | test_acc: 0.5417\n",
            "Epoch: 11 | train_loss: 1.0736 | train_acc: 0.4102 | test_loss: 1.0504 | test_acc: 0.5729\n",
            "Epoch: 12 | train_loss: 1.1492 | train_acc: 0.3672 | test_loss: 1.0278 | test_acc: 0.6042\n",
            "Epoch: 13 | train_loss: 1.0542 | train_acc: 0.4805 | test_loss: 1.0560 | test_acc: 0.5938\n",
            "Epoch: 14 | train_loss: 1.0598 | train_acc: 0.3594 | test_loss: 1.0471 | test_acc: 0.5256\n",
            "Epoch: 15 | train_loss: 1.0150 | train_acc: 0.6445 | test_loss: 1.0308 | test_acc: 0.3826\n",
            "Epoch: 16 | train_loss: 0.8371 | train_acc: 0.6445 | test_loss: 1.0954 | test_acc: 0.3731\n",
            "Epoch: 17 | train_loss: 0.9001 | train_acc: 0.6367 | test_loss: 1.0281 | test_acc: 0.3314\n",
            "Epoch: 18 | train_loss: 0.8980 | train_acc: 0.5508 | test_loss: 1.0449 | test_acc: 0.4129\n",
            "Epoch: 19 | train_loss: 0.8635 | train_acc: 0.5391 | test_loss: 0.9929 | test_acc: 0.5559\n",
            "Epoch: 20 | train_loss: 1.0916 | train_acc: 0.5664 | test_loss: 1.0038 | test_acc: 0.5152\n",
            "Total training time: 33.386 seconds\n",
            "Saved model to: models/tinyVGG2_pizza_steak_sushi.pth\n",
            "Model saved in models directory as tinyVGG2_pizza_steak_sushi.pth\n"
          ]
        }
      ],
      "source": [
        "%run ../going_modular/train.py --seed 42 --epochs 20 --lr 0.001"
      ]
    },
    {
      "cell_type": "code",
      "execution_count": null,
      "metadata": {
        "id": "8wbo-luC4bEP"
      },
      "outputs": [],
      "source": []
    }
  ],
  "metadata": {
    "accelerator": "GPU",
    "colab": {
      "gpuType": "T4",
      "provenance": []
    },
    "kernelspec": {
      "display_name": "Python 3",
      "name": "python3"
    },
    "language_info": {
      "codemirror_mode": {
        "name": "ipython",
        "version": 3
      },
      "file_extension": ".py",
      "mimetype": "text/x-python",
      "name": "python",
      "nbconvert_exporter": "python",
      "pygments_lexer": "ipython3",
      "version": "3.10.9"
    },
    "orig_nbformat": 4,
    "vscode": {
      "interpreter": {
        "hash": "b0fa6594d8f4cbf19f97940f81e996739fb7646882a419484c72d19e05852a7e"
      }
    },
    "widgets": {
      "application/vnd.jupyter.widget-state+json": {
        "05ed6b360451403a8eeba88fb9257ac7": {
          "model_module": "@jupyter-widgets/controls",
          "model_module_version": "1.5.0",
          "model_name": "HTMLModel",
          "state": {
            "_dom_classes": [],
            "_model_module": "@jupyter-widgets/controls",
            "_model_module_version": "1.5.0",
            "_model_name": "HTMLModel",
            "_view_count": null,
            "_view_module": "@jupyter-widgets/controls",
            "_view_module_version": "1.5.0",
            "_view_name": "HTMLView",
            "description": "",
            "description_tooltip": null,
            "layout": "IPY_MODEL_a82b6f68951849d98cf4e90aaa4c61f3",
            "placeholder": "​",
            "style": "IPY_MODEL_06f5b04dfbc441cf84eae4f98399bba8",
            "value": " 20/20 [00:33&lt;00:00,  1.76s/it]"
          }
        },
        "06f5b04dfbc441cf84eae4f98399bba8": {
          "model_module": "@jupyter-widgets/controls",
          "model_module_version": "1.5.0",
          "model_name": "DescriptionStyleModel",
          "state": {
            "_model_module": "@jupyter-widgets/controls",
            "_model_module_version": "1.5.0",
            "_model_name": "DescriptionStyleModel",
            "_view_count": null,
            "_view_module": "@jupyter-widgets/base",
            "_view_module_version": "1.2.0",
            "_view_name": "StyleView",
            "description_width": ""
          }
        },
        "0e46e248c6ec49b4b9ec67557429636b": {
          "model_module": "@jupyter-widgets/controls",
          "model_module_version": "1.5.0",
          "model_name": "FloatProgressModel",
          "state": {
            "_dom_classes": [],
            "_model_module": "@jupyter-widgets/controls",
            "_model_module_version": "1.5.0",
            "_model_name": "FloatProgressModel",
            "_view_count": null,
            "_view_module": "@jupyter-widgets/controls",
            "_view_module_version": "1.5.0",
            "_view_name": "ProgressView",
            "bar_style": "success",
            "description": "",
            "description_tooltip": null,
            "layout": "IPY_MODEL_c7405a120d054240bd9ff2d7db9d22c1",
            "max": 20,
            "min": 0,
            "orientation": "horizontal",
            "style": "IPY_MODEL_2fea18fd6206488f9553a5f45eb94c11",
            "value": 20
          }
        },
        "2fea18fd6206488f9553a5f45eb94c11": {
          "model_module": "@jupyter-widgets/controls",
          "model_module_version": "1.5.0",
          "model_name": "ProgressStyleModel",
          "state": {
            "_model_module": "@jupyter-widgets/controls",
            "_model_module_version": "1.5.0",
            "_model_name": "ProgressStyleModel",
            "_view_count": null,
            "_view_module": "@jupyter-widgets/base",
            "_view_module_version": "1.2.0",
            "_view_name": "StyleView",
            "bar_color": null,
            "description_width": ""
          }
        },
        "5cc440ebb4c247f99cbd5b3b93365618": {
          "model_module": "@jupyter-widgets/base",
          "model_module_version": "1.2.0",
          "model_name": "LayoutModel",
          "state": {
            "_model_module": "@jupyter-widgets/base",
            "_model_module_version": "1.2.0",
            "_model_name": "LayoutModel",
            "_view_count": null,
            "_view_module": "@jupyter-widgets/base",
            "_view_module_version": "1.2.0",
            "_view_name": "LayoutView",
            "align_content": null,
            "align_items": null,
            "align_self": null,
            "border": null,
            "bottom": null,
            "display": null,
            "flex": null,
            "flex_flow": null,
            "grid_area": null,
            "grid_auto_columns": null,
            "grid_auto_flow": null,
            "grid_auto_rows": null,
            "grid_column": null,
            "grid_gap": null,
            "grid_row": null,
            "grid_template_areas": null,
            "grid_template_columns": null,
            "grid_template_rows": null,
            "height": null,
            "justify_content": null,
            "justify_items": null,
            "left": null,
            "margin": null,
            "max_height": null,
            "max_width": null,
            "min_height": null,
            "min_width": null,
            "object_fit": null,
            "object_position": null,
            "order": null,
            "overflow": null,
            "overflow_x": null,
            "overflow_y": null,
            "padding": null,
            "right": null,
            "top": null,
            "visibility": null,
            "width": null
          }
        },
        "a82b6f68951849d98cf4e90aaa4c61f3": {
          "model_module": "@jupyter-widgets/base",
          "model_module_version": "1.2.0",
          "model_name": "LayoutModel",
          "state": {
            "_model_module": "@jupyter-widgets/base",
            "_model_module_version": "1.2.0",
            "_model_name": "LayoutModel",
            "_view_count": null,
            "_view_module": "@jupyter-widgets/base",
            "_view_module_version": "1.2.0",
            "_view_name": "LayoutView",
            "align_content": null,
            "align_items": null,
            "align_self": null,
            "border": null,
            "bottom": null,
            "display": null,
            "flex": null,
            "flex_flow": null,
            "grid_area": null,
            "grid_auto_columns": null,
            "grid_auto_flow": null,
            "grid_auto_rows": null,
            "grid_column": null,
            "grid_gap": null,
            "grid_row": null,
            "grid_template_areas": null,
            "grid_template_columns": null,
            "grid_template_rows": null,
            "height": null,
            "justify_content": null,
            "justify_items": null,
            "left": null,
            "margin": null,
            "max_height": null,
            "max_width": null,
            "min_height": null,
            "min_width": null,
            "object_fit": null,
            "object_position": null,
            "order": null,
            "overflow": null,
            "overflow_x": null,
            "overflow_y": null,
            "padding": null,
            "right": null,
            "top": null,
            "visibility": null,
            "width": null
          }
        },
        "bc6ba46d54814130960497101548e274": {
          "model_module": "@jupyter-widgets/base",
          "model_module_version": "1.2.0",
          "model_name": "LayoutModel",
          "state": {
            "_model_module": "@jupyter-widgets/base",
            "_model_module_version": "1.2.0",
            "_model_name": "LayoutModel",
            "_view_count": null,
            "_view_module": "@jupyter-widgets/base",
            "_view_module_version": "1.2.0",
            "_view_name": "LayoutView",
            "align_content": null,
            "align_items": null,
            "align_self": null,
            "border": null,
            "bottom": null,
            "display": null,
            "flex": null,
            "flex_flow": null,
            "grid_area": null,
            "grid_auto_columns": null,
            "grid_auto_flow": null,
            "grid_auto_rows": null,
            "grid_column": null,
            "grid_gap": null,
            "grid_row": null,
            "grid_template_areas": null,
            "grid_template_columns": null,
            "grid_template_rows": null,
            "height": null,
            "justify_content": null,
            "justify_items": null,
            "left": null,
            "margin": null,
            "max_height": null,
            "max_width": null,
            "min_height": null,
            "min_width": null,
            "object_fit": null,
            "object_position": null,
            "order": null,
            "overflow": null,
            "overflow_x": null,
            "overflow_y": null,
            "padding": null,
            "right": null,
            "top": null,
            "visibility": null,
            "width": null
          }
        },
        "c7405a120d054240bd9ff2d7db9d22c1": {
          "model_module": "@jupyter-widgets/base",
          "model_module_version": "1.2.0",
          "model_name": "LayoutModel",
          "state": {
            "_model_module": "@jupyter-widgets/base",
            "_model_module_version": "1.2.0",
            "_model_name": "LayoutModel",
            "_view_count": null,
            "_view_module": "@jupyter-widgets/base",
            "_view_module_version": "1.2.0",
            "_view_name": "LayoutView",
            "align_content": null,
            "align_items": null,
            "align_self": null,
            "border": null,
            "bottom": null,
            "display": null,
            "flex": null,
            "flex_flow": null,
            "grid_area": null,
            "grid_auto_columns": null,
            "grid_auto_flow": null,
            "grid_auto_rows": null,
            "grid_column": null,
            "grid_gap": null,
            "grid_row": null,
            "grid_template_areas": null,
            "grid_template_columns": null,
            "grid_template_rows": null,
            "height": null,
            "justify_content": null,
            "justify_items": null,
            "left": null,
            "margin": null,
            "max_height": null,
            "max_width": null,
            "min_height": null,
            "min_width": null,
            "object_fit": null,
            "object_position": null,
            "order": null,
            "overflow": null,
            "overflow_x": null,
            "overflow_y": null,
            "padding": null,
            "right": null,
            "top": null,
            "visibility": null,
            "width": null
          }
        },
        "d705e63627ae4d9e93cf543ea5925716": {
          "model_module": "@jupyter-widgets/controls",
          "model_module_version": "1.5.0",
          "model_name": "DescriptionStyleModel",
          "state": {
            "_model_module": "@jupyter-widgets/controls",
            "_model_module_version": "1.5.0",
            "_model_name": "DescriptionStyleModel",
            "_view_count": null,
            "_view_module": "@jupyter-widgets/base",
            "_view_module_version": "1.2.0",
            "_view_name": "StyleView",
            "description_width": ""
          }
        },
        "f09d3213a06944c1a8fa81274e62eee2": {
          "model_module": "@jupyter-widgets/controls",
          "model_module_version": "1.5.0",
          "model_name": "HTMLModel",
          "state": {
            "_dom_classes": [],
            "_model_module": "@jupyter-widgets/controls",
            "_model_module_version": "1.5.0",
            "_model_name": "HTMLModel",
            "_view_count": null,
            "_view_module": "@jupyter-widgets/controls",
            "_view_module_version": "1.5.0",
            "_view_name": "HTMLView",
            "description": "",
            "description_tooltip": null,
            "layout": "IPY_MODEL_5cc440ebb4c247f99cbd5b3b93365618",
            "placeholder": "​",
            "style": "IPY_MODEL_d705e63627ae4d9e93cf543ea5925716",
            "value": "100%"
          }
        },
        "f7f7537bdcb9482e822889910655ff0c": {
          "model_module": "@jupyter-widgets/controls",
          "model_module_version": "1.5.0",
          "model_name": "HBoxModel",
          "state": {
            "_dom_classes": [],
            "_model_module": "@jupyter-widgets/controls",
            "_model_module_version": "1.5.0",
            "_model_name": "HBoxModel",
            "_view_count": null,
            "_view_module": "@jupyter-widgets/controls",
            "_view_module_version": "1.5.0",
            "_view_name": "HBoxView",
            "box_style": "",
            "children": [
              "IPY_MODEL_f09d3213a06944c1a8fa81274e62eee2",
              "IPY_MODEL_0e46e248c6ec49b4b9ec67557429636b",
              "IPY_MODEL_05ed6b360451403a8eeba88fb9257ac7"
            ],
            "layout": "IPY_MODEL_bc6ba46d54814130960497101548e274"
          }
        }
      }
    }
  },
  "nbformat": 4,
  "nbformat_minor": 0
}
