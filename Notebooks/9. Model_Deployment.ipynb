{
 "cells": [
  {
   "attachments": {},
   "cell_type": "markdown",
   "metadata": {},
   "source": [
    "# Model deployment\n",
    "We're going to make the model available for use. The metrics of focus are:\n",
    "1.  Performs well (~95% accuracy)\n",
    "2.  Fast inference timings (30ms latency)"
   ]
  },
  {
   "attachments": {},
   "cell_type": "markdown",
   "metadata": {},
   "source": [
    "## 1. Seting up for model experiments\n",
    "* We are going to develop and choose from either the EffNetB2 and ViT feature extractor models for deployment.\n",
    "* Thereafter we're going to finetune the chosen model on the entire FoodVision dataset"
   ]
  },
  {
   "cell_type": "code",
   "execution_count": 21,
   "metadata": {},
   "outputs": [
    {
     "name": "stdout",
     "output_type": "stream",
     "text": [
      "PyTorch version:  2.0.1\n",
      "Torchvision version:  0.15.2\n"
     ]
    }
   ],
   "source": [
    "import os\n",
    "from pathlib import Path\n",
    "\n",
    "import sys\n",
    "sys.path.append(\"../\")\n",
    "from src.utils import get_device, plot_loss_curves\n",
    "from going_modular import data_setup, engine\n",
    "from going_modular.get_data import get_data\n",
    "from going_modular.utils import save_model\n",
    "\n",
    "import numpy as np\n",
    "import pandas as pd\n",
    "import matplotlib.pyplot as plt\n",
    "\n",
    "from PIL import Image\n",
    "\n",
    "import torch\n",
    "import torchvision\n",
    "from torch import nn\n",
    "from torch.utils.data import DataLoader\n",
    "from torchvision import datasets, transforms\n",
    "from torchinfo import summary\n",
    "\n",
    "from tqdm.notebook import tqdm\n",
    "\n",
    "print(\"PyTorch version: \",torch.__version__)\n",
    "print(\"Torchvision version: \",torchvision.__version__)"
   ]
  },
  {
   "attachments": {},
   "cell_type": "markdown",
   "metadata": {},
   "source": [
    "Set hyperparameters"
   ]
  },
  {
   "cell_type": "code",
   "execution_count": 2,
   "metadata": {},
   "outputs": [],
   "source": [
    "BATCH_SIZE = 32 # The paper uses 4096 which is too big for a normal computer's hardware\n",
    "NUM_WORKERS = 0 # MPS cannot work with more than 0\n",
    "EPOCHS = 10\n",
    "LR = 0.001\n",
    "SEED = 42\n",
    "IMG_SIZE = 224 #dimensions used by the ViT paper"
   ]
  },
  {
   "attachments": {},
   "cell_type": "markdown",
   "metadata": {},
   "source": [
    "Set device"
   ]
  },
  {
   "cell_type": "code",
   "execution_count": 3,
   "metadata": {},
   "outputs": [
    {
     "data": {
      "text/plain": [
       "'mps'"
      ]
     },
     "execution_count": 3,
     "metadata": {},
     "output_type": "execute_result"
    }
   ],
   "source": [
    "device = get_device()\n",
    "device"
   ]
  },
  {
   "attachments": {},
   "cell_type": "markdown",
   "metadata": {},
   "source": [
    "Set data pathways"
   ]
  },
  {
   "cell_type": "code",
   "execution_count": 13,
   "metadata": {},
   "outputs": [
    {
     "name": "stdout",
     "output_type": "stream",
     "text": [
      "Creating data/pizza_steak_sushi_20_percent directory...\n",
      "Downloading pizza_steak_sushi data...\n",
      "Unziping pizza_steak_sushi data...\n"
     ]
    },
    {
     "data": {
      "text/plain": [
       "{'status': 'Data extracted successfully'}"
      ]
     },
     "execution_count": 13,
     "metadata": {},
     "output_type": "execute_result"
    }
   ],
   "source": [
    "# Download pizza, steak, sushi images from GitHub\n",
    "data = get_data(url=\"https://github.com/mrdbourke/pytorch-deep-learning/raw/main/data/pizza_steak_sushi_20_percent.zip\",\n",
    "                image_dir = \"pizza_steak_sushi_20_percent\")\n",
    "\n",
    "data"
   ]
  },
  {
   "cell_type": "code",
   "execution_count": 15,
   "metadata": {},
   "outputs": [
    {
     "data": {
      "text/plain": [
       "(PosixPath('data/pizza_steak_sushi_20_percent/train'),\n",
       " PosixPath('data/pizza_steak_sushi_20_percent/test'))"
      ]
     },
     "execution_count": 15,
     "metadata": {},
     "output_type": "execute_result"
    }
   ],
   "source": [
    "data_path = Path(\"data/pizza_steak_sushi_20_percent\")\n",
    "train_dir = data_path / \"train\"\n",
    "test_dir = data_path / \"test\"\n",
    "train_dir, test_dir"
   ]
  },
  {
   "attachments": {},
   "cell_type": "markdown",
   "metadata": {},
   "source": [
    "## 2. EfficientNetB2 feature extractor"
   ]
  },
  {
   "cell_type": "code",
   "execution_count": 6,
   "metadata": {},
   "outputs": [
    {
     "name": "stderr",
     "output_type": "stream",
     "text": [
      "Downloading: \"https://download.pytorch.org/models/efficientnet_b2_rwightman-bcdf34b7.pth\" to /Users/tituslim/.cache/torch/hub/checkpoints/efficientnet_b2_rwightman-bcdf34b7.pth\n",
      "100%|██████████| 35.2M/35.2M [00:00<00:00, 50.0MB/s]\n"
     ]
    },
    {
     "data": {
      "text/plain": [
       "================================================================================\n",
       "Layer (type:depth-idx)                                  Param #\n",
       "================================================================================\n",
       "EfficientNet                                            --\n",
       "├─Sequential: 1-1                                       --\n",
       "│    └─Conv2dNormActivation: 2-1                        --\n",
       "│    │    └─Conv2d: 3-1                                 864\n",
       "│    │    └─BatchNorm2d: 3-2                            64\n",
       "│    │    └─SiLU: 3-3                                   --\n",
       "│    └─Sequential: 2-2                                  --\n",
       "│    │    └─MBConv: 3-4                                 1,448\n",
       "│    │    └─MBConv: 3-5                                 612\n",
       "│    └─Sequential: 2-3                                  --\n",
       "│    │    └─MBConv: 3-6                                 6,004\n",
       "│    │    └─MBConv: 3-7                                 10,710\n",
       "│    │    └─MBConv: 3-8                                 10,710\n",
       "│    └─Sequential: 2-4                                  --\n",
       "│    │    └─MBConv: 3-9                                 16,518\n",
       "│    │    └─MBConv: 3-10                                43,308\n",
       "│    │    └─MBConv: 3-11                                43,308\n",
       "│    └─Sequential: 2-5                                  --\n",
       "│    │    └─MBConv: 3-12                                50,300\n",
       "│    │    └─MBConv: 3-13                                123,750\n",
       "│    │    └─MBConv: 3-14                                123,750\n",
       "│    │    └─MBConv: 3-15                                123,750\n",
       "│    └─Sequential: 2-6                                  --\n",
       "│    │    └─MBConv: 3-16                                149,158\n",
       "│    │    └─MBConv: 3-17                                237,870\n",
       "│    │    └─MBConv: 3-18                                237,870\n",
       "│    │    └─MBConv: 3-19                                237,870\n",
       "│    └─Sequential: 2-7                                  --\n",
       "│    │    └─MBConv: 3-20                                301,406\n",
       "│    │    └─MBConv: 3-21                                686,868\n",
       "│    │    └─MBConv: 3-22                                686,868\n",
       "│    │    └─MBConv: 3-23                                686,868\n",
       "│    │    └─MBConv: 3-24                                686,868\n",
       "│    └─Sequential: 2-8                                  --\n",
       "│    │    └─MBConv: 3-25                                846,900\n",
       "│    │    └─MBConv: 3-26                                1,888,920\n",
       "│    └─Conv2dNormActivation: 2-9                        --\n",
       "│    │    └─Conv2d: 3-27                                495,616\n",
       "│    │    └─BatchNorm2d: 3-28                           2,816\n",
       "│    │    └─SiLU: 3-29                                  --\n",
       "├─AdaptiveAvgPool2d: 1-2                                --\n",
       "├─Sequential: 1-3                                       --\n",
       "│    └─Dropout: 2-10                                    --\n",
       "│    └─Linear: 2-11                                     1,409,000\n",
       "================================================================================\n",
       "Total params: 9,109,994\n",
       "Trainable params: 9,109,994\n",
       "Non-trainable params: 0\n",
       "================================================================================"
      ]
     },
     "execution_count": 6,
     "metadata": {},
     "output_type": "execute_result"
    }
   ],
   "source": [
    "effnetb2_weights = torchvision.models.EfficientNet_B2_Weights.DEFAULT\n",
    "effnetb2_transforms = effnetb2_weights.transforms()\n",
    "\n",
    "effnetb2 = torchvision.models.efficientnet_b2(weights=effnetb2_weights)\n",
    "\n",
    "summary(effnetb2)"
   ]
  },
  {
   "cell_type": "code",
   "execution_count": 7,
   "metadata": {},
   "outputs": [
    {
     "data": {
      "text/plain": [
       "Sequential(\n",
       "  (0): Dropout(p=0.3, inplace=True)\n",
       "  (1): Linear(in_features=1408, out_features=1000, bias=True)\n",
       ")"
      ]
     },
     "execution_count": 7,
     "metadata": {},
     "output_type": "execute_result"
    }
   ],
   "source": [
    "effnetb2.classifier"
   ]
  },
  {
   "cell_type": "code",
   "execution_count": 8,
   "metadata": {},
   "outputs": [
    {
     "data": {
      "text/plain": [
       "============================================================================================================================================\n",
       "Layer (type (var_name))                                      Input Shape          Output Shape         Param #              Trainable\n",
       "============================================================================================================================================\n",
       "EfficientNet (EfficientNet)                                  [1, 3, 224, 224]     [1, 3]               --                   Partial\n",
       "├─Sequential (features)                                      [1, 3, 224, 224]     [1, 1408, 7, 7]      --                   False\n",
       "│    └─Conv2dNormActivation (0)                              [1, 3, 224, 224]     [1, 32, 112, 112]    --                   False\n",
       "│    │    └─Conv2d (0)                                       [1, 3, 224, 224]     [1, 32, 112, 112]    (864)                False\n",
       "│    │    └─BatchNorm2d (1)                                  [1, 32, 112, 112]    [1, 32, 112, 112]    (64)                 False\n",
       "│    │    └─SiLU (2)                                         [1, 32, 112, 112]    [1, 32, 112, 112]    --                   --\n",
       "│    └─Sequential (1)                                        [1, 32, 112, 112]    [1, 16, 112, 112]    --                   False\n",
       "│    │    └─MBConv (0)                                       [1, 32, 112, 112]    [1, 16, 112, 112]    (1,448)              False\n",
       "│    │    └─MBConv (1)                                       [1, 16, 112, 112]    [1, 16, 112, 112]    (612)                False\n",
       "│    └─Sequential (2)                                        [1, 16, 112, 112]    [1, 24, 56, 56]      --                   False\n",
       "│    │    └─MBConv (0)                                       [1, 16, 112, 112]    [1, 24, 56, 56]      (6,004)              False\n",
       "│    │    └─MBConv (1)                                       [1, 24, 56, 56]      [1, 24, 56, 56]      (10,710)             False\n",
       "│    │    └─MBConv (2)                                       [1, 24, 56, 56]      [1, 24, 56, 56]      (10,710)             False\n",
       "│    └─Sequential (3)                                        [1, 24, 56, 56]      [1, 48, 28, 28]      --                   False\n",
       "│    │    └─MBConv (0)                                       [1, 24, 56, 56]      [1, 48, 28, 28]      (16,518)             False\n",
       "│    │    └─MBConv (1)                                       [1, 48, 28, 28]      [1, 48, 28, 28]      (43,308)             False\n",
       "│    │    └─MBConv (2)                                       [1, 48, 28, 28]      [1, 48, 28, 28]      (43,308)             False\n",
       "│    └─Sequential (4)                                        [1, 48, 28, 28]      [1, 88, 14, 14]      --                   False\n",
       "│    │    └─MBConv (0)                                       [1, 48, 28, 28]      [1, 88, 14, 14]      (50,300)             False\n",
       "│    │    └─MBConv (1)                                       [1, 88, 14, 14]      [1, 88, 14, 14]      (123,750)            False\n",
       "│    │    └─MBConv (2)                                       [1, 88, 14, 14]      [1, 88, 14, 14]      (123,750)            False\n",
       "│    │    └─MBConv (3)                                       [1, 88, 14, 14]      [1, 88, 14, 14]      (123,750)            False\n",
       "│    └─Sequential (5)                                        [1, 88, 14, 14]      [1, 120, 14, 14]     --                   False\n",
       "│    │    └─MBConv (0)                                       [1, 88, 14, 14]      [1, 120, 14, 14]     (149,158)            False\n",
       "│    │    └─MBConv (1)                                       [1, 120, 14, 14]     [1, 120, 14, 14]     (237,870)            False\n",
       "│    │    └─MBConv (2)                                       [1, 120, 14, 14]     [1, 120, 14, 14]     (237,870)            False\n",
       "│    │    └─MBConv (3)                                       [1, 120, 14, 14]     [1, 120, 14, 14]     (237,870)            False\n",
       "│    └─Sequential (6)                                        [1, 120, 14, 14]     [1, 208, 7, 7]       --                   False\n",
       "│    │    └─MBConv (0)                                       [1, 120, 14, 14]     [1, 208, 7, 7]       (301,406)            False\n",
       "│    │    └─MBConv (1)                                       [1, 208, 7, 7]       [1, 208, 7, 7]       (686,868)            False\n",
       "│    │    └─MBConv (2)                                       [1, 208, 7, 7]       [1, 208, 7, 7]       (686,868)            False\n",
       "│    │    └─MBConv (3)                                       [1, 208, 7, 7]       [1, 208, 7, 7]       (686,868)            False\n",
       "│    │    └─MBConv (4)                                       [1, 208, 7, 7]       [1, 208, 7, 7]       (686,868)            False\n",
       "│    └─Sequential (7)                                        [1, 208, 7, 7]       [1, 352, 7, 7]       --                   False\n",
       "│    │    └─MBConv (0)                                       [1, 208, 7, 7]       [1, 352, 7, 7]       (846,900)            False\n",
       "│    │    └─MBConv (1)                                       [1, 352, 7, 7]       [1, 352, 7, 7]       (1,888,920)          False\n",
       "│    └─Conv2dNormActivation (8)                              [1, 352, 7, 7]       [1, 1408, 7, 7]      --                   False\n",
       "│    │    └─Conv2d (0)                                       [1, 352, 7, 7]       [1, 1408, 7, 7]      (495,616)            False\n",
       "│    │    └─BatchNorm2d (1)                                  [1, 1408, 7, 7]      [1, 1408, 7, 7]      (2,816)              False\n",
       "│    │    └─SiLU (2)                                         [1, 1408, 7, 7]      [1, 1408, 7, 7]      --                   --\n",
       "├─AdaptiveAvgPool2d (avgpool)                                [1, 1408, 7, 7]      [1, 1408, 1, 1]      --                   --\n",
       "├─Sequential (classifier)                                    [1, 1408]            [1, 3]               --                   True\n",
       "│    └─Dropout (0)                                           [1, 1408]            [1, 1408]            --                   --\n",
       "│    └─Linear (1)                                            [1, 1408]            [1, 3]               4,227                True\n",
       "============================================================================================================================================\n",
       "Total params: 7,705,221\n",
       "Trainable params: 4,227\n",
       "Non-trainable params: 7,700,994\n",
       "Total mult-adds (Units.MEGABYTES): 657.64\n",
       "============================================================================================================================================\n",
       "Input size (MB): 0.60\n",
       "Forward/backward pass size (MB): 156.80\n",
       "Params size (MB): 30.82\n",
       "Estimated Total Size (MB): 188.22\n",
       "============================================================================================================================================"
      ]
     },
     "execution_count": 8,
     "metadata": {},
     "output_type": "execute_result"
    }
   ],
   "source": [
    "for parameter in effnetb2.parameters():\n",
    "    parameter.requires_grad = False\n",
    "\n",
    "torch.manual_seed(SEED)\n",
    "torch.mps.manual_seed(SEED)\n",
    "\n",
    "effnetb2.classifier = nn.Sequential(\n",
    "    nn.Dropout(p = 0.3, inplace = True),\n",
    "    nn.Linear(in_features = 1408, out_features = 3, bias = True)\n",
    ")\n",
    "\n",
    "summary(effnetb2, \n",
    "        input_size=(1, 3, 224, 224),\n",
    "        col_names=[\"input_size\", \"output_size\", \"num_params\", \"trainable\"],\n",
    "        col_width=20,\n",
    "        row_settings=[\"var_names\"])"
   ]
  },
  {
   "cell_type": "code",
   "execution_count": 16,
   "metadata": {},
   "outputs": [],
   "source": [
    "train_dataloader_effnetb2, test_dataloader_effnetb2, class_names = data_setup.create_dataloaders(\n",
    "    train_dir = train_dir,\n",
    "    test_dir = test_dir,\n",
    "    transform = effnetb2_transforms,\n",
    "    batch_size = BATCH_SIZE\n",
    ")"
   ]
  },
  {
   "cell_type": "code",
   "execution_count": 17,
   "metadata": {},
   "outputs": [
    {
     "data": {
      "text/plain": [
       "(15, 5)"
      ]
     },
     "execution_count": 17,
     "metadata": {},
     "output_type": "execute_result"
    }
   ],
   "source": [
    "len(train_dataloader_effnetb2), len(test_dataloader_effnetb2)"
   ]
  },
  {
   "attachments": {},
   "cell_type": "markdown",
   "metadata": {},
   "source": [
    "Training the effnetb2 model"
   ]
  },
  {
   "cell_type": "code",
   "execution_count": 19,
   "metadata": {},
   "outputs": [
    {
     "data": {
      "application/vnd.jupyter.widget-view+json": {
       "model_id": "d334e98b900b4675bb2f682eab1e74cb",
       "version_major": 2,
       "version_minor": 0
      },
      "text/plain": [
       "  0%|          | 0/10 [00:00<?, ?it/s]"
      ]
     },
     "metadata": {},
     "output_type": "display_data"
    },
    {
     "name": "stdout",
     "output_type": "stream",
     "text": [
      "Epoch: 1 | train_loss: 0.9817 | train_acc: 0.5729 | test_loss: 0.7343 | test_acc: 0.9625\n",
      "Epoch: 2 | train_loss: 0.7070 | train_acc: 0.8667 | test_loss: 0.5739 | test_acc: 0.9500\n",
      "Epoch: 3 | train_loss: 0.6039 | train_acc: 0.8167 | test_loss: 0.4819 | test_acc: 0.9625\n",
      "Epoch: 4 | train_loss: 0.4490 | train_acc: 0.9021 | test_loss: 0.4318 | test_acc: 0.9375\n",
      "Epoch: 5 | train_loss: 0.4287 | train_acc: 0.9104 | test_loss: 0.3894 | test_acc: 0.9472\n",
      "Epoch: 6 | train_loss: 0.4202 | train_acc: 0.8833 | test_loss: 0.3528 | test_acc: 0.9688\n",
      "Epoch: 7 | train_loss: 0.4224 | train_acc: 0.8396 | test_loss: 0.3256 | test_acc: 0.9472\n",
      "Epoch: 8 | train_loss: 0.3951 | train_acc: 0.8875 | test_loss: 0.3461 | test_acc: 0.9472\n",
      "Epoch: 9 | train_loss: 0.3832 | train_acc: 0.8771 | test_loss: 0.3104 | test_acc: 0.9347\n",
      "Epoch: 10 | train_loss: 0.3655 | train_acc: 0.8604 | test_loss: 0.2837 | test_acc: 0.9625\n"
     ]
    }
   ],
   "source": [
    "opt_effnetb2 = torch.optim.Adam(params = effnetb2.parameters(),\n",
    "                                lr  = LR)\n",
    "loss_fn = nn.CrossEntropyLoss()\n",
    "\n",
    "torch.manual_seed(SEED)\n",
    "torch.mps.manual_seed(SEED)\n",
    "\n",
    "effnetb2_results = engine.train(\n",
    "    model = effnetb2.to(device),\n",
    "    train_dataloader = train_dataloader_effnetb2,\n",
    "    test_dataloader = test_dataloader_effnetb2,\n",
    "    epochs = EPOCHS,\n",
    "    optimizer = opt_effnetb2,\n",
    "    loss_fn = loss_fn,\n",
    "    device = device\n",
    ")"
   ]
  },
  {
   "attachments": {},
   "cell_type": "markdown",
   "metadata": {},
   "source": [
    "Very good test accuracy scores!"
   ]
  },
  {
   "cell_type": "code",
   "execution_count": 20,
   "metadata": {},
   "outputs": [
    {
     "data": {
      "image/png": "[encoded data removed]",
      "text/plain": [
       "<Figure size 1500x700 with 2 Axes>"
      ]
     },
     "metadata": {},
     "output_type": "display_data"
    }
   ],
   "source": [
    "plot_loss_curves(effnetb2_results)"
   ]
  },
  {
   "cell_type": "code",
   "execution_count": 22,
   "metadata": {},
   "outputs": [
    {
     "name": "stdout",
     "output_type": "stream",
     "text": [
      "Saved model to: models/finetuned_effnetb2_20percent.pth\n"
     ]
    }
   ],
   "source": [
    "save_model(model = effnetb2,\n",
    "           root_dir = \"models\",\n",
    "           model_name = \"finetuned_effnetb2_20percent.pth\") "
   ]
  },
  {
   "cell_type": "code",
   "execution_count": 26,
   "metadata": {},
   "outputs": [
    {
     "name": "stdout",
     "output_type": "stream",
     "text": [
      "EffNetB2 feature extractor model size: 29.83 MB\n"
     ]
    }
   ],
   "source": [
    "effnet_size = Path(\"models/finetuned_effnetb2_20percent.pth\").stat().st_size / (1024*1024)\n",
    "print(f\"EffNetB2 feature extractor model size: {effnet_size:.2f} MB\")"
   ]
  },
  {
   "cell_type": "code",
   "execution_count": 33,
   "metadata": {},
   "outputs": [
    {
     "data": {
      "text/plain": [
       "{'test_loss': 0.2836607605218887,\n",
       " 'test_accuracy': 0.9625,\n",
       " 'model_size (MB)': 29.82852077484131,\n",
       " 'total_params': 7705221}"
      ]
     },
     "execution_count": 33,
     "metadata": {},
     "output_type": "execute_result"
    }
   ],
   "source": [
    "# Collect effnetb2 model statistics\n",
    "effnetb2_total_params = sum(\n",
    "    torch.numel(param) for param in effnetb2.parameters()\n",
    ")\n",
    "effnetb2_stats = {'test_loss': effnetb2_results['test_loss'][-1],\n",
    "                  'test_accuracy': effnetb2_results['test_acc'][-1],\n",
    "                  'model_size (MB)': effnet_size,\n",
    "                  'total_params': effnetb2_total_params}\n",
    "effnetb2_stats"
   ]
  },
  {
   "attachments": {},
   "cell_type": "markdown",
   "metadata": {},
   "source": [
    "## 3. ViT Feature Extractor"
   ]
  },
  {
   "cell_type": "code",
   "execution_count": 35,
   "metadata": {},
   "outputs": [
    {
     "data": {
      "text/plain": [
       "============================================================================================================================================\n",
       "Layer (type (var_name))                                      Input Shape          Output Shape         Param #              Trainable\n",
       "============================================================================================================================================\n",
       "VisionTransformer (VisionTransformer)                        [1, 3, 224, 224]     [1, 3]               768                  Partial\n",
       "├─Conv2d (conv_proj)                                         [1, 3, 224, 224]     [1, 768, 14, 14]     (590,592)            False\n",
       "├─Encoder (encoder)                                          [1, 197, 768]        [1, 197, 768]        151,296              False\n",
       "│    └─Dropout (dropout)                                     [1, 197, 768]        [1, 197, 768]        --                   --\n",
       "│    └─Sequential (layers)                                   [1, 197, 768]        [1, 197, 768]        --                   False\n",
       "│    │    └─EncoderBlock (encoder_layer_0)                   [1, 197, 768]        [1, 197, 768]        (7,087,872)          False\n",
       "│    │    └─EncoderBlock (encoder_layer_1)                   [1, 197, 768]        [1, 197, 768]        (7,087,872)          False\n",
       "│    │    └─EncoderBlock (encoder_layer_2)                   [1, 197, 768]        [1, 197, 768]        (7,087,872)          False\n",
       "│    │    └─EncoderBlock (encoder_layer_3)                   [1, 197, 768]        [1, 197, 768]        (7,087,872)          False\n",
       "│    │    └─EncoderBlock (encoder_layer_4)                   [1, 197, 768]        [1, 197, 768]        (7,087,872)          False\n",
       "│    │    └─EncoderBlock (encoder_layer_5)                   [1, 197, 768]        [1, 197, 768]        (7,087,872)          False\n",
       "│    │    └─EncoderBlock (encoder_layer_6)                   [1, 197, 768]        [1, 197, 768]        (7,087,872)          False\n",
       "│    │    └─EncoderBlock (encoder_layer_7)                   [1, 197, 768]        [1, 197, 768]        (7,087,872)          False\n",
       "│    │    └─EncoderBlock (encoder_layer_8)                   [1, 197, 768]        [1, 197, 768]        (7,087,872)          False\n",
       "│    │    └─EncoderBlock (encoder_layer_9)                   [1, 197, 768]        [1, 197, 768]        (7,087,872)          False\n",
       "│    │    └─EncoderBlock (encoder_layer_10)                  [1, 197, 768]        [1, 197, 768]        (7,087,872)          False\n",
       "│    │    └─EncoderBlock (encoder_layer_11)                  [1, 197, 768]        [1, 197, 768]        (7,087,872)          False\n",
       "│    └─LayerNorm (ln)                                        [1, 197, 768]        [1, 197, 768]        (1,536)              False\n",
       "├─Linear (heads)                                             [1, 768]             [1, 3]               2,307                True\n",
       "============================================================================================================================================\n",
       "Total params: 85,800,963\n",
       "Trainable params: 2,307\n",
       "Non-trainable params: 85,798,656\n",
       "Total mult-adds (Units.MEGABYTES): 172.47\n",
       "============================================================================================================================================\n",
       "Input size (MB): 0.60\n",
       "Forward/backward pass size (MB): 104.09\n",
       "Params size (MB): 229.20\n",
       "Estimated Total Size (MB): 333.89\n",
       "============================================================================================================================================"
      ]
     },
     "execution_count": 35,
     "metadata": {},
     "output_type": "execute_result"
    }
   ],
   "source": [
    "vit_weights = torchvision.models.ViT_B_16_Weights.DEFAULT\n",
    "\n",
    "vit = torchvision.models.vit_b_16(\n",
    "    weights = vit_weights\n",
    ")\n",
    "\n",
    "vit_transforms = vit_weights.transforms()\n",
    "\n",
    "# Freeze base parameters\n",
    "for parameter in vit.parameters():\n",
    "    parameter.requires_grad = False\n",
    "\n",
    "# Replace MLP head\n",
    "torch.manual_seed(SEED)\n",
    "torch.mps.manual_seed(SEED)\n",
    "\n",
    "# Set top layer as trainable\n",
    "vit.heads = nn.Linear(in_features = 768,\n",
    "                      out_features = 3 #we only have 3 classes\n",
    "                      )\n",
    "\n",
    "summary(vit, \n",
    "        input_size = (1, 3, 224, 224), #(batch_size, color_channels, img_size, img_size)\n",
    "        col_names = ['input_size', 'output_size', 'num_params', 'trainable'],\n",
    "        col_width = 20,\n",
    "        row_settings = ['var_names']\n",
    "        )"
   ]
  },
  {
   "cell_type": "code",
   "execution_count": 37,
   "metadata": {},
   "outputs": [],
   "source": [
    "#Setup dataloaders\n",
    "train_dataloader_vit, test_dataloader_vit, _ = data_setup.create_dataloaders(\n",
    "    train_dir = train_dir,\n",
    "    test_dir = test_dir,\n",
    "    transform = vit_transforms,\n",
    "    batch_size = BATCH_SIZE #we can setup a higher batch size because there are less weight updates\n",
    ")"
   ]
  },
  {
   "cell_type": "code",
   "execution_count": 38,
   "metadata": {},
   "outputs": [
    {
     "data": {
      "application/vnd.jupyter.widget-view+json": {
       "model_id": "c319d917a9cd47c399fe7b0fe487487a",
       "version_major": 2,
       "version_minor": 0
      },
      "text/plain": [
       "  0%|          | 0/10 [00:00<?, ?it/s]"
      ]
     },
     "metadata": {},
     "output_type": "display_data"
    },
    {
     "name": "stdout",
     "output_type": "stream",
     "text": [
      "Epoch: 1 | train_loss: 0.7020 | train_acc: 0.7521 | test_loss: 0.2714 | test_acc: 0.9381\n",
      "Epoch: 2 | train_loss: 0.2532 | train_acc: 0.9062 | test_loss: 0.1672 | test_acc: 0.9602\n",
      "Epoch: 3 | train_loss: 0.1764 | train_acc: 0.9542 | test_loss: 0.1273 | test_acc: 0.9693\n",
      "Epoch: 4 | train_loss: 0.1276 | train_acc: 0.9625 | test_loss: 0.1074 | test_acc: 0.9722\n",
      "Epoch: 5 | train_loss: 0.1159 | train_acc: 0.9646 | test_loss: 0.0953 | test_acc: 0.9784\n",
      "Epoch: 6 | train_loss: 0.1274 | train_acc: 0.9375 | test_loss: 0.0832 | test_acc: 0.9722\n",
      "Epoch: 7 | train_loss: 0.0897 | train_acc: 0.9771 | test_loss: 0.0845 | test_acc: 0.9784\n",
      "Epoch: 8 | train_loss: 0.0919 | train_acc: 0.9812 | test_loss: 0.0764 | test_acc: 0.9722\n",
      "Epoch: 9 | train_loss: 0.0922 | train_acc: 0.9792 | test_loss: 0.0734 | test_acc: 0.9784\n",
      "Epoch: 10 | train_loss: 0.0658 | train_acc: 0.9833 | test_loss: 0.0644 | test_acc: 0.9847\n"
     ]
    }
   ],
   "source": [
    "opt_vit = torch.optim.Adam(params = vit.parameters(),\n",
    "                           lr  = LR)\n",
    "\n",
    "torch.manual_seed(SEED)\n",
    "torch.mps.manual_seed(SEED)\n",
    "\n",
    "vit_results = engine.train(\n",
    "    model = vit.to(device),\n",
    "    train_dataloader = train_dataloader_vit,\n",
    "    test_dataloader = test_dataloader_vit,\n",
    "    epochs = EPOCHS,\n",
    "    optimizer = opt_vit,\n",
    "    loss_fn = loss_fn,\n",
    "    device = device\n",
    ")"
   ]
  },
  {
   "cell_type": "code",
   "execution_count": 39,
   "metadata": {},
   "outputs": [
    {
     "data": {
      "image/png": "[encoded data removed]",
      "text/plain": [
       "<Figure size 1500x700 with 2 Axes>"
      ]
     },
     "metadata": {},
     "output_type": "display_data"
    }
   ],
   "source": [
    "plot_loss_curves(vit_results)"
   ]
  },
  {
   "cell_type": "code",
   "execution_count": 40,
   "metadata": {},
   "outputs": [
    {
     "name": "stdout",
     "output_type": "stream",
     "text": [
      "Saved model to: models/finetuned_vit_20percent.pth\n",
      "ViT feature extractor model size: 327.36 MB\n",
      "\n"
     ]
    },
    {
     "data": {
      "text/plain": [
       "{'test_loss': 0.06443448234349489,\n",
       " 'test_accuracy': 0.984659090909091,\n",
       " 'model_size (MB)': 327.362229347229,\n",
       " 'total_params': 85800963}"
      ]
     },
     "execution_count": 40,
     "metadata": {},
     "output_type": "execute_result"
    }
   ],
   "source": [
    "save_model(model = vit,\n",
    "           root_dir = \"models\",\n",
    "           model_name = \"finetuned_vit_20percent.pth\") \n",
    "vit_size = Path(\"models/finetuned_vit_20percent.pth\").stat().st_size / (1024*1024)\n",
    "print(f\"ViT feature extractor model size: {vit_size:.2f} MB\\n\")\n",
    "\n",
    "# Collect effnetb2 model statistics\n",
    "vit_total_params = sum(\n",
    "    torch.numel(param) for param in vit.parameters()\n",
    ")\n",
    "vit_stats = {'test_loss': vit_results['test_loss'][-1],\n",
    "                  'test_accuracy': vit_results['test_acc'][-1],\n",
    "                  'model_size (MB)': vit_size,\n",
    "                  'total_params': vit_total_params}\n",
    "vit_stats"
   ]
  },
  {
   "attachments": {},
   "cell_type": "markdown",
   "metadata": {},
   "source": [
    "The ViT model has better accuracy but is clearly slower to finetune and requires more storage space."
   ]
  },
  {
   "attachments": {},
   "cell_type": "markdown",
   "metadata": {},
   "source": [
    "## 4. Timing model inference timings"
   ]
  },
  {
   "cell_type": "code",
   "execution_count": 45,
   "metadata": {},
   "outputs": [
    {
     "data": {
      "text/plain": [
       "[PosixPath('data/pizza_steak_sushi_20_percent/test/steak/413497.jpg'),\n",
       " PosixPath('data/pizza_steak_sushi_20_percent/test/steak/2246332.jpg'),\n",
       " PosixPath('data/pizza_steak_sushi_20_percent/test/steak/2475366.jpg'),\n",
       " PosixPath('data/pizza_steak_sushi_20_percent/test/steak/1982192.jpg'),\n",
       " PosixPath('data/pizza_steak_sushi_20_percent/test/steak/2353677.jpg')]"
      ]
     },
     "execution_count": 45,
     "metadata": {},
     "output_type": "execute_result"
    }
   ],
   "source": [
    "test_data_paths = list(Path(test_dir).glob('*/*.jpg'))\n",
    "test_data_paths[:5]"
   ]
  },
  {
   "cell_type": "code",
   "execution_count": 76,
   "metadata": {},
   "outputs": [],
   "source": [
    "from typing import List, Dict\n",
    "from timeit import default_timer as timer\n",
    "\n",
    "def pred_and_store(\n",
    "    paths: List[Path],\n",
    "    model: nn.Module,\n",
    "    transform: transforms,\n",
    "    class_name: List[str],\n",
    "    device: str = device) -> List[Dict]:\n",
    "    \"\"\"Runs the pytorch model against the test set and compiles model\n",
    "    statistics for decision-making. A dictionary containing model inference\n",
    "    statistics is created for each sample and appended to a list to be\n",
    "    returned.\n",
    "\n",
    "    Args:\n",
    "        paths (List[Path]): List of pathlib path objects of test images\n",
    "        model (nn.Module): Torch model\n",
    "        transform (transforms): Torch transforms\n",
    "        class_name (List[str]): List of class names\n",
    "        device (str, optional): Torch device. Defaults to device.\n",
    "\n",
    "    Returns:\n",
    "        List[Dict]: List of dictionaries.\n",
    "    \"\"\"\n",
    "    pred_list = []\n",
    "    for path in tqdm(paths):\n",
    "        pred_dict = dict()\n",
    "        pred_dict['image_path'] = path\n",
    "        pred_dict['class_name'] = path.parent.stem\n",
    "        \n",
    "        start_time = timer()\n",
    "        \n",
    "        # Read image\n",
    "        img = Image.open(path)\n",
    "        transformed_img = transform(img).unsqueeze(0).to(device) #Add batch dim\n",
    "        \n",
    "        # Run inference\n",
    "        model = model.to(device)\n",
    "        model.eval()\n",
    "        with torch.inference_mode():\n",
    "            pred_logit = model(transformed_img)\n",
    "            pred_prob = torch.softmax(pred_logit, dim  = 1)\n",
    "            pred_label = torch.argmax(pred_prob, dim = 1)\n",
    "            pred_class = class_name[pred_label.cpu()]\n",
    "        \n",
    "        pred_dict['pred_prob'] = round(pred_prob.unsqueeze(0).max().cpu().item(), 4\n",
    "                                       )\n",
    "        pred_dict['pred_class'] = pred_class\n",
    "        \n",
    "        end_time = timer()\n",
    "        \n",
    "        # Update pred_dict\n",
    "        pred_dict['time_for_pred'] = round(end_time - start_time, 4)\n",
    "        pred_dict['correct'] = pred_dict['class_name'] == pred_class\n",
    "        \n",
    "        #Update pred_list\n",
    "        pred_list.append(pred_dict)\n",
    "    \n",
    "    return pred_list"
   ]
  },
  {
   "cell_type": "code",
   "execution_count": 77,
   "metadata": {},
   "outputs": [
    {
     "data": {
      "application/vnd.jupyter.widget-view+json": {
       "model_id": "3fed3412990f40509fd3ee25445bfebd",
       "version_major": 2,
       "version_minor": 0
      },
      "text/plain": [
       "  0%|          | 0/150 [00:00<?, ?it/s]"
      ]
     },
     "metadata": {},
     "output_type": "display_data"
    }
   ],
   "source": [
    "effnetb2_pred_list = pred_and_store(\n",
    "    paths = test_data_paths,\n",
    "    model = effnetb2,\n",
    "    transform = effnetb2_transforms,\n",
    "    class_name = class_names,\n",
    "    device = device\n",
    ")"
   ]
  },
  {
   "cell_type": "code",
   "execution_count": 78,
   "metadata": {},
   "outputs": [
    {
     "data": {
      "text/html": [
       "<div>\n",
       "<style scoped>\n",
       "    .dataframe tbody tr th:only-of-type {\n",
       "        vertical-align: middle;\n",
       "    }\n",
       "\n",
       "    .dataframe tbody tr th {\n",
       "        vertical-align: top;\n",
       "    }\n",
       "\n",
       "    .dataframe thead th {\n",
       "        text-align: right;\n",
       "    }\n",
       "</style>\n",
       "<table border=\"1\" class=\"dataframe\">\n",
       "  <thead>\n",
       "    <tr style=\"text-align: right;\">\n",
       "      <th></th>\n",
       "      <th>image_path</th>\n",
       "      <th>class_name</th>\n",
       "      <th>pred_prob</th>\n",
       "      <th>pred_class</th>\n",
       "      <th>time_for_pred</th>\n",
       "      <th>correct</th>\n",
       "    </tr>\n",
       "  </thead>\n",
       "  <tbody>\n",
       "    <tr>\n",
       "      <th>0</th>\n",
       "      <td>data/pizza_steak_sushi_20_percent/test/steak/4...</td>\n",
       "      <td>steak</td>\n",
       "      <td>0.9153</td>\n",
       "      <td>steak</td>\n",
       "      <td>0.8634</td>\n",
       "      <td>True</td>\n",
       "    </tr>\n",
       "    <tr>\n",
       "      <th>1</th>\n",
       "      <td>data/pizza_steak_sushi_20_percent/test/steak/2...</td>\n",
       "      <td>steak</td>\n",
       "      <td>0.9216</td>\n",
       "      <td>steak</td>\n",
       "      <td>0.0417</td>\n",
       "      <td>True</td>\n",
       "    </tr>\n",
       "    <tr>\n",
       "      <th>2</th>\n",
       "      <td>data/pizza_steak_sushi_20_percent/test/steak/2...</td>\n",
       "      <td>steak</td>\n",
       "      <td>0.8720</td>\n",
       "      <td>steak</td>\n",
       "      <td>0.0354</td>\n",
       "      <td>True</td>\n",
       "    </tr>\n",
       "    <tr>\n",
       "      <th>3</th>\n",
       "      <td>data/pizza_steak_sushi_20_percent/test/steak/1...</td>\n",
       "      <td>steak</td>\n",
       "      <td>0.6192</td>\n",
       "      <td>steak</td>\n",
       "      <td>0.0360</td>\n",
       "      <td>True</td>\n",
       "    </tr>\n",
       "    <tr>\n",
       "      <th>4</th>\n",
       "      <td>data/pizza_steak_sushi_20_percent/test/steak/2...</td>\n",
       "      <td>steak</td>\n",
       "      <td>0.5794</td>\n",
       "      <td>steak</td>\n",
       "      <td>0.0377</td>\n",
       "      <td>True</td>\n",
       "    </tr>\n",
       "  </tbody>\n",
       "</table>\n",
       "</div>"
      ],
      "text/plain": [
       "                                          image_path class_name  pred_prob  \\\n",
       "0  data/pizza_steak_sushi_20_percent/test/steak/4...      steak     0.9153   \n",
       "1  data/pizza_steak_sushi_20_percent/test/steak/2...      steak     0.9216   \n",
       "2  data/pizza_steak_sushi_20_percent/test/steak/2...      steak     0.8720   \n",
       "3  data/pizza_steak_sushi_20_percent/test/steak/1...      steak     0.6192   \n",
       "4  data/pizza_steak_sushi_20_percent/test/steak/2...      steak     0.5794   \n",
       "\n",
       "  pred_class  time_for_pred  correct  \n",
       "0      steak         0.8634     True  \n",
       "1      steak         0.0417     True  \n",
       "2      steak         0.0354     True  \n",
       "3      steak         0.0360     True  \n",
       "4      steak         0.0377     True  "
      ]
     },
     "execution_count": 78,
     "metadata": {},
     "output_type": "execute_result"
    }
   ],
   "source": [
    "effnetb2_df = pd.DataFrame(effnetb2_pred_list)\n",
    "effnetb2_df.head()"
   ]
  },
  {
   "cell_type": "code",
   "execution_count": 79,
   "metadata": {},
   "outputs": [
    {
     "data": {
      "text/plain": [
       "correct\n",
       "True     144\n",
       "False      6\n",
       "Name: count, dtype: int64"
      ]
     },
     "execution_count": 79,
     "metadata": {},
     "output_type": "execute_result"
    }
   ],
   "source": [
    "effnetb2_df.correct.value_counts()"
   ]
  },
  {
   "cell_type": "code",
   "execution_count": 80,
   "metadata": {},
   "outputs": [
    {
     "name": "stdout",
     "output_type": "stream",
     "text": [
      "\n",
      "    EffNetB2 average inference time:\n",
      "    0.043 seconds\n",
      "    \n"
     ]
    }
   ],
   "source": [
    "print(\n",
    "    f\"\"\"\n",
    "    EffNetB2 average inference time:\n",
    "    {round(effnetb2_df.time_for_pred.mean(), 4):.3f} seconds\n",
    "    \"\"\"\n",
    ")"
   ]
  },
  {
   "cell_type": "code",
   "execution_count": 81,
   "metadata": {},
   "outputs": [
    {
     "data": {
      "application/vnd.jupyter.widget-view+json": {
       "model_id": "23ea1be5380c40dbb80fcd831061f3fc",
       "version_major": 2,
       "version_minor": 0
      },
      "text/plain": [
       "  0%|          | 0/150 [00:00<?, ?it/s]"
      ]
     },
     "metadata": {},
     "output_type": "display_data"
    }
   ],
   "source": [
    "vit_pred_list = pred_and_store(\n",
    "    paths = test_data_paths,\n",
    "    model = vit,\n",
    "    transform = vit_transforms,\n",
    "    class_name = class_names,\n",
    "    device = device\n",
    ")"
   ]
  },
  {
   "cell_type": "code",
   "execution_count": 82,
   "metadata": {},
   "outputs": [
    {
     "data": {
      "text/html": [
       "<div>\n",
       "<style scoped>\n",
       "    .dataframe tbody tr th:only-of-type {\n",
       "        vertical-align: middle;\n",
       "    }\n",
       "\n",
       "    .dataframe tbody tr th {\n",
       "        vertical-align: top;\n",
       "    }\n",
       "\n",
       "    .dataframe thead th {\n",
       "        text-align: right;\n",
       "    }\n",
       "</style>\n",
       "<table border=\"1\" class=\"dataframe\">\n",
       "  <thead>\n",
       "    <tr style=\"text-align: right;\">\n",
       "      <th></th>\n",
       "      <th>image_path</th>\n",
       "      <th>class_name</th>\n",
       "      <th>pred_prob</th>\n",
       "      <th>pred_class</th>\n",
       "      <th>time_for_pred</th>\n",
       "      <th>correct</th>\n",
       "    </tr>\n",
       "  </thead>\n",
       "  <tbody>\n",
       "    <tr>\n",
       "      <th>0</th>\n",
       "      <td>data/pizza_steak_sushi_20_percent/test/steak/4...</td>\n",
       "      <td>steak</td>\n",
       "      <td>0.7962</td>\n",
       "      <td>steak</td>\n",
       "      <td>0.0464</td>\n",
       "      <td>True</td>\n",
       "    </tr>\n",
       "    <tr>\n",
       "      <th>1</th>\n",
       "      <td>data/pizza_steak_sushi_20_percent/test/steak/2...</td>\n",
       "      <td>steak</td>\n",
       "      <td>0.9981</td>\n",
       "      <td>steak</td>\n",
       "      <td>0.0346</td>\n",
       "      <td>True</td>\n",
       "    </tr>\n",
       "    <tr>\n",
       "      <th>2</th>\n",
       "      <td>data/pizza_steak_sushi_20_percent/test/steak/2...</td>\n",
       "      <td>steak</td>\n",
       "      <td>0.9959</td>\n",
       "      <td>steak</td>\n",
       "      <td>0.0324</td>\n",
       "      <td>True</td>\n",
       "    </tr>\n",
       "    <tr>\n",
       "      <th>3</th>\n",
       "      <td>data/pizza_steak_sushi_20_percent/test/steak/1...</td>\n",
       "      <td>steak</td>\n",
       "      <td>0.9863</td>\n",
       "      <td>steak</td>\n",
       "      <td>0.0339</td>\n",
       "      <td>True</td>\n",
       "    </tr>\n",
       "    <tr>\n",
       "      <th>4</th>\n",
       "      <td>data/pizza_steak_sushi_20_percent/test/steak/2...</td>\n",
       "      <td>steak</td>\n",
       "      <td>0.9519</td>\n",
       "      <td>steak</td>\n",
       "      <td>0.0328</td>\n",
       "      <td>True</td>\n",
       "    </tr>\n",
       "  </tbody>\n",
       "</table>\n",
       "</div>"
      ],
      "text/plain": [
       "                                          image_path class_name  pred_prob  \\\n",
       "0  data/pizza_steak_sushi_20_percent/test/steak/4...      steak     0.7962   \n",
       "1  data/pizza_steak_sushi_20_percent/test/steak/2...      steak     0.9981   \n",
       "2  data/pizza_steak_sushi_20_percent/test/steak/2...      steak     0.9959   \n",
       "3  data/pizza_steak_sushi_20_percent/test/steak/1...      steak     0.9863   \n",
       "4  data/pizza_steak_sushi_20_percent/test/steak/2...      steak     0.9519   \n",
       "\n",
       "  pred_class  time_for_pred  correct  \n",
       "0      steak         0.0464     True  \n",
       "1      steak         0.0346     True  \n",
       "2      steak         0.0324     True  \n",
       "3      steak         0.0339     True  \n",
       "4      steak         0.0328     True  "
      ]
     },
     "execution_count": 82,
     "metadata": {},
     "output_type": "execute_result"
    }
   ],
   "source": [
    "vit_df = pd.DataFrame(vit_pred_list)\n",
    "vit_df.head()"
   ]
  },
  {
   "cell_type": "code",
   "execution_count": 83,
   "metadata": {},
   "outputs": [
    {
     "data": {
      "text/plain": [
       "correct\n",
       "True     148\n",
       "False      2\n",
       "Name: count, dtype: int64"
      ]
     },
     "execution_count": 83,
     "metadata": {},
     "output_type": "execute_result"
    }
   ],
   "source": [
    "vit_df.correct.value_counts()"
   ]
  },
  {
   "cell_type": "code",
   "execution_count": 84,
   "metadata": {},
   "outputs": [
    {
     "name": "stdout",
     "output_type": "stream",
     "text": [
      "\n",
      "    ViT average inference time:\n",
      "    0.033 seconds\n",
      "    \n"
     ]
    }
   ],
   "source": [
    "print(\n",
    "    f\"\"\"\n",
    "    ViT average inference time:\n",
    "    {round(vit_df.time_for_pred.mean(), 4):.3f} seconds\n",
    "    \"\"\"\n",
    ")"
   ]
  },
  {
   "cell_type": "code",
   "execution_count": 91,
   "metadata": {},
   "outputs": [
    {
     "data": {
      "text/html": [
       "<div>\n",
       "<style scoped>\n",
       "    .dataframe tbody tr th:only-of-type {\n",
       "        vertical-align: middle;\n",
       "    }\n",
       "\n",
       "    .dataframe tbody tr th {\n",
       "        vertical-align: top;\n",
       "    }\n",
       "\n",
       "    .dataframe thead th {\n",
       "        text-align: right;\n",
       "    }\n",
       "</style>\n",
       "<table border=\"1\" class=\"dataframe\">\n",
       "  <thead>\n",
       "    <tr style=\"text-align: right;\">\n",
       "      <th></th>\n",
       "      <th>test_loss</th>\n",
       "      <th>test_accuracy</th>\n",
       "      <th>model_size (MB)</th>\n",
       "      <th>total_params</th>\n",
       "      <th>avg_inference_time</th>\n",
       "      <th>model</th>\n",
       "    </tr>\n",
       "  </thead>\n",
       "  <tbody>\n",
       "    <tr>\n",
       "      <th>0</th>\n",
       "      <td>0.283661</td>\n",
       "      <td>96.25</td>\n",
       "      <td>29.828521</td>\n",
       "      <td>7705221</td>\n",
       "      <td>0.0435</td>\n",
       "      <td>EffNetB2</td>\n",
       "    </tr>\n",
       "    <tr>\n",
       "      <th>1</th>\n",
       "      <td>0.064434</td>\n",
       "      <td>98.47</td>\n",
       "      <td>327.362229</td>\n",
       "      <td>85800963</td>\n",
       "      <td>0.0326</td>\n",
       "      <td>ViT</td>\n",
       "    </tr>\n",
       "  </tbody>\n",
       "</table>\n",
       "</div>"
      ],
      "text/plain": [
       "   test_loss  test_accuracy  model_size (MB)  total_params  \\\n",
       "0   0.283661          96.25        29.828521       7705221   \n",
       "1   0.064434          98.47       327.362229      85800963   \n",
       "\n",
       "   avg_inference_time     model  \n",
       "0              0.0435  EffNetB2  \n",
       "1              0.0326       ViT  "
      ]
     },
     "execution_count": 91,
     "metadata": {},
     "output_type": "execute_result"
    }
   ],
   "source": [
    "df = pd.DataFrame([effnetb2_stats,\n",
    "                   vit_stats])\n",
    "df['avg_inference_time'] = [round(effnetb2_df.time_for_pred.mean(), 4),\n",
    "                            round(vit_df.time_for_pred.mean(), 4)]\n",
    "df['test_accuracy'] = round(df['test_accuracy']*100, 2)\n",
    "df['model'] = ['EffNetB2', 'ViT']\n",
    "df"
   ]
  },
  {
   "attachments": {},
   "cell_type": "markdown",
   "metadata": {},
   "source": [
    "Hey! The ViT model is slightly faster than the EfficientNetB2, and with better accuracy! Let's evaluate\n",
    "* `test_loss` (lower is better) > ViT\n",
    "* `test_accuracy` (higher is better) > ViT\n",
    "* `total_params` (lower is better in general) > EffNetB2\n",
    "* `model_size` (lower is better) > EffNetB2\n",
    "* Inference timings (lower is better) > ViT\n",
    "\n",
    "> ViT scoring faster inference timings is quite unexpected. But I guess it really depends on the hardware"
   ]
  },
  {
   "attachments": {},
   "cell_type": "markdown",
   "metadata": {},
   "source": [
    "We will deploy the EfficientNet because the model's storage requirements are smaller"
   ]
  },
  {
   "attachments": {},
   "cell_type": "markdown",
   "metadata": {},
   "source": [
    "## 5. Bringing FoodVision Mini to life in an app\n",
    "Gradio is a popular machine learning demo library and directly integrates with HuggingFace Spaces."
   ]
  },
  {
   "cell_type": "code",
   "execution_count": 93,
   "metadata": {},
   "outputs": [
    {
     "data": {
      "text/plain": [
       "device(type='cpu')"
      ]
     },
     "execution_count": 93,
     "metadata": {},
     "output_type": "execute_result"
    }
   ],
   "source": [
    "#put the model on cpu for inference mode\n",
    "vit = vit.to('cpu') \n",
    "next(iter(vit.parameters())).device"
   ]
  },
  {
   "cell_type": "code",
   "execution_count": 107,
   "metadata": {},
   "outputs": [],
   "source": [
    "from typing import Tuple, Dict\n",
    "import PIL\n",
    "\n",
    "# Write function to run inference on gradio\n",
    "def predict(img: PIL.Image, \n",
    "            model: nn.Module = effnetb2,\n",
    "            class_names: List[str] = class_names) -> Tuple[Dict, float]:\n",
    "    \"\"\"Function to predict image class on gradio\n",
    "\n",
    "    Args:\n",
    "        img (np.array): Image as a numpy array\n",
    "        model (nn.Module, optional): Model. Defaults to vit.\n",
    "        class_names (List[str], optional): List of class anmes. Defaults to class_names.\n",
    "\n",
    "    Returns:\n",
    "        Tuple[Dict, float]: Tuplefor further processing on gradio\n",
    "    \"\"\"\n",
    "    start_time = timer()\n",
    "    img = vit_transforms(img).unsqueeze(0) #add batch dimension\n",
    "    model.eval()\n",
    "    with torch.inference_mode():\n",
    "        pred_probs = torch.softmax(vit(img), dim = 1)\n",
    "    pred_labels_and_probs = {class_names[i]: float(pred_probs[0][i]) for i in range(len(class_names))}\n",
    "    end_time = timer()\n",
    "    pred_time = round(end_time - start_time, 4)\n",
    "    return pred_labels_and_probs, pred_time"
   ]
  },
  {
   "attachments": {},
   "cell_type": "markdown",
   "metadata": {},
   "source": [
    "#### Test predict function"
   ]
  },
  {
   "cell_type": "code",
   "execution_count": 100,
   "metadata": {},
   "outputs": [
    {
     "name": "stdout",
     "output_type": "stream",
     "text": [
      "[INFO] Predicting on image: data/pizza_steak_sushi_20_percent/test/steak/2756200.jpg\n",
      "\n",
      "{'pizza': 0.005287931766360998, 'steak': 0.9194149971008301, 'sushi': 0.07529711723327637}\n",
      "0.0889\n"
     ]
    }
   ],
   "source": [
    "import random\n",
    "from PIL import Image\n",
    "\n",
    "random_img_path = random.sample(test_data_paths, k=1)[0]\n",
    "image = Image.open(random_img_path)\n",
    "print(f\"[INFO] Predicting on image: {random_img_path}\\n\")\n",
    "\n",
    "pred_dict, pred_time = predict(img = image)\n",
    "print(pred_dict)\n",
    "print(pred_time)"
   ]
  },
  {
   "attachments": {},
   "cell_type": "markdown",
   "metadata": {},
   "source": [
    "#### Create example images for use in Gradio\n",
    "> The examples for Gradio can be created with the `examples` parameter. "
   ]
  },
  {
   "cell_type": "code",
   "execution_count": 109,
   "metadata": {},
   "outputs": [
    {
     "data": {
      "text/plain": [
       "[['data/pizza_steak_sushi_20_percent/test/pizza/3375083.jpg'],\n",
       " ['data/pizza_steak_sushi_20_percent/test/sushi/1683426.jpg'],\n",
       " ['data/pizza_steak_sushi_20_percent/test/steak/2246332.jpg']]"
      ]
     },
     "execution_count": 109,
     "metadata": {},
     "output_type": "execute_result"
    }
   ],
   "source": [
    "example_list = [[str(filepath)] for filepath in random.sample(test_data_paths, k=3)]\n",
    "example_list"
   ]
  },
  {
   "attachments": {},
   "cell_type": "markdown",
   "metadata": {},
   "source": [
    "#### Building the Gradio interface"
   ]
  },
  {
   "cell_type": "code",
   "execution_count": 113,
   "metadata": {},
   "outputs": [
    {
     "name": "stdout",
     "output_type": "stream",
     "text": [
      "Running on local URL:  http://127.0.0.1:7860\n",
      "\n",
      "Could not create share link. Please check your internet connection or our status page: https://status.gradio.app.\n"
     ]
    },
    {
     "data": {
      "text/html": [
       "<div><iframe src=\"http://127.0.0.1:7860/\" width=\"100%\" height=\"500\" allow=\"autoplay; camera; microphone; clipboard-read; clipboard-write;\" frameborder=\"0\" allowfullscreen></iframe></div>"
      ],
      "text/plain": [
       "<IPython.core.display.HTML object>"
      ]
     },
     "metadata": {},
     "output_type": "display_data"
    },
    {
     "data": {
      "text/plain": []
     },
     "execution_count": 113,
     "metadata": {},
     "output_type": "execute_result"
    }
   ],
   "source": [
    "import gradio as gr\n",
    "\n",
    "# Create title, description and article\n",
    "title = 'FoodVision Mini 🍕🥩🍣'\n",
    "description = \"Using a [Vision Transformer](https://arxiv.org/abs/2010.11929) for Image Classification\"\n",
    "article = \"Created by [Titus Lim](https://github.com/tituslhy)\"\n",
    "\n",
    "demo = gr.Interface(fn = predict,\n",
    "                    inputs = gr.Image(type = \"pil\"),\n",
    "                    outputs = [gr.Label(num_top_classes = 3, label = \"Predictions\"),\n",
    "                               gr.Number(label = \"Prediction time (s)\")],\n",
    "                    examples = example_list,\n",
    "                    title = title,\n",
    "                    description = description,\n",
    "                    article = article)\n",
    "\n",
    "demo.launch(debug = False, #prints errors locally\n",
    "            share = True # Generate a publicly shareable URL\n",
    "            )"
   ]
  },
  {
   "cell_type": "code",
   "execution_count": 112,
   "metadata": {},
   "outputs": [
    {
     "name": "stdout",
     "output_type": "stream",
     "text": [
      "Closing server running on port: 7861\n",
      "Closing server running on port: 7860\n",
      "Closing server running on port: 7863\n",
      "Closing server running on port: 7862\n"
     ]
    }
   ],
   "source": [
    "gr.close_all()"
   ]
  },
  {
   "attachments": {},
   "cell_type": "markdown",
   "metadata": {},
   "source": [
    "## Deploying FoodVision Mini to HuggingFace Spaces\n",
    "We will be creating the app structure as below. Do note that we need to use GitHub LFS (Large File System) to upload the pth model to HuggingFace Spaces. \n",
    "\n",
    "```\n",
    "demos/\n",
    "└── foodvision_mini/\n",
    "    ├── finetuned_effnetb2_20percent.pth\n",
    "    ├── app.py\n",
    "    ├── examples/\n",
    "    │   ├── example_1.jpg\n",
    "    │   ├── example_2.jpg\n",
    "    │   └── example_3.jpg\n",
    "    ├── model.py\n",
    "    └── requirements.txt\n",
    "```\n",
    "\n",
    "> Alternatively you could also deploy via FastAPI and create the app.py to call the API for an inference. You'll need a server to run the FastAPI though."
   ]
  },
  {
   "cell_type": "code",
   "execution_count": 108,
   "metadata": {},
   "outputs": [],
   "source": [
    "import shutil\n",
    "\n",
    "# Create the demos directory\n",
    "foodvision_mini_demo_path = Path(\"demos/foodvision_mini/\")\n",
    "if os.path.exists(foodvision_mini_demo_path):\n",
    "    shutil.rmtree(foodvision_mini_demo_path)\n",
    "foodvision_mini_demo_path.mkdir(parents = True, exist_ok=True)\n",
    "\n",
    "!ls demos/foodvision_mini/"
   ]
  },
  {
   "cell_type": "code",
   "execution_count": 114,
   "metadata": {},
   "outputs": [],
   "source": [
    "# Create examples directory\n",
    "foodvision_mini_examples_path = foodvision_mini_demo_path / \"examples\"\n",
    "foodvision_mini_examples_path.mkdir(parents = True, exist_ok = True)\n",
    "!ls demos/foodvision_mini/examples"
   ]
  },
  {
   "cell_type": "code",
   "execution_count": 119,
   "metadata": {},
   "outputs": [
    {
     "name": "stdout",
     "output_type": "stream",
     "text": [
      "[INFO] Copying data/pizza_steak_sushi_20_percent/test/pizza/3375083.jpg to demos/foodvision_mini/examples/3375083.jpg\n",
      "[INFO] Copying data/pizza_steak_sushi_20_percent/test/sushi/1683426.jpg to demos/foodvision_mini/examples/1683426.jpg\n",
      "[INFO] Copying data/pizza_steak_sushi_20_percent/test/steak/2246332.jpg to demos/foodvision_mini/examples/2246332.jpg\n"
     ]
    }
   ],
   "source": [
    "foodvision_mini_examples = [Path(example_list[i][0]) for i in range(len(example_list))]\n",
    "for example in foodvision_mini_examples:\n",
    "    destination = foodvision_mini_examples_path / example.name\n",
    "    print(f\"[INFO] Copying {example} to {destination}\")\n",
    "    shutil.copy2(src = example, dst = destination)"
   ]
  },
  {
   "cell_type": "code",
   "execution_count": 121,
   "metadata": {},
   "outputs": [
    {
     "data": {
      "text/plain": [
       "[['examples/2246332.jpg'], ['examples/1683426.jpg'], ['examples/3375083.jpg']]"
      ]
     },
     "execution_count": 121,
     "metadata": {},
     "output_type": "execute_result"
    }
   ],
   "source": [
    "# Get example filepaths as a list of lists\n",
    "app_examples = [[\"examples/\" + example] for example in os.listdir(foodvision_mini_examples_path)]\n",
    "app_examples"
   ]
  },
  {
   "cell_type": "code",
   "execution_count": 125,
   "metadata": {},
   "outputs": [
    {
     "name": "stdout",
     "output_type": "stream",
     "text": [
      "[INFO] Moving Models/finetuned_effnetb2_20percent.pth to demos/foodvision_mini/finetuned_effnetb2_20percent.pth\n",
      "[INFO] Model move complete\n"
     ]
    }
   ],
   "source": [
    "# Move model into app\n",
    "model_path = \"Models/finetuned_effnetb2_20percent.pth\"\n",
    "model_dest = foodvision_mini_demo_path / model_path.split(\"/\")[1]\n",
    "try:\n",
    "    print(f\"[INFO] Moving {model_path} to {model_dest}\")\n",
    "    shutil.move(model_path, model_dest)\n",
    "    print(f\"[INFO] Model move complete\")\n",
    "except Exception as e:\n",
    "    print(f\"[INFO] No model found at {model_path}\")\n",
    "    if model_dest.exists():\n",
    "        print(f\"[INFO] Model already exists at {model_dest}\")\n",
    "    else:\n",
    "        print(str(e))"
   ]
  },
  {
   "attachments": {},
   "cell_type": "markdown",
   "metadata": {},
   "source": [
    "Creating model.py"
   ]
  },
  {
   "cell_type": "code",
   "execution_count": 126,
   "metadata": {},
   "outputs": [
    {
     "name": "stdout",
     "output_type": "stream",
     "text": [
      "Writing demos/foodvision_mini/model.py\n"
     ]
    }
   ],
   "source": [
    "%%writefile demos/foodvision_mini/model.py\n",
    "\n",
    "import torch\n",
    "import torchvision\n",
    "from torch import nn\n",
    "\n",
    "def create_effnetb2_model(num_classes: int = 3,\n",
    "                          seed: int = 42):\n",
    "    effnetb2_weights = torchvision.models.EfficientNet_B2_Weights.DEFAULT\n",
    "    effnetb2_transforms = effnetb2_weights.transforms()\n",
    "    effnetb2 = torchvision.models.efficientnet_b2(weights=effnetb2_weights)\n",
    "    for param in effnetb2.parameters():\n",
    "        param.requires_grad = False\n",
    "    torch.manual_seed(seed)\n",
    "    effnetb2.classifier = nn.Sequential(\n",
    "        nn.Dropout(p = 0.3, inplace = True),\n",
    "        nn.Linear(in_features = 1408, out_features = num_classes)\n",
    "    )\n",
    "    return effnetb2, effnetb2_transforms"
   ]
  },
  {
   "attachments": {},
   "cell_type": "markdown",
   "metadata": {},
   "source": [
    "Creating app.py"
   ]
  },
  {
   "cell_type": "code",
   "execution_count": 131,
   "metadata": {},
   "outputs": [
    {
     "data": {
      "text/plain": [
       "torchvision.transforms._presets.ImageClassification"
      ]
     },
     "execution_count": 131,
     "metadata": {},
     "output_type": "execute_result"
    }
   ],
   "source": [
    "type(effnetb2_transforms)"
   ]
  },
  {
   "cell_type": "code",
   "execution_count": 132,
   "metadata": {},
   "outputs": [
    {
     "name": "stdout",
     "output_type": "stream",
     "text": [
      "Writing demos/foodvision_mini/app.py\n"
     ]
    }
   ],
   "source": [
    "%%writefile demos/foodvision_mini/app.py\n",
    "\"\"\"The main parts are:\n",
    "1. Imports and class names setup\n",
    "2. Model and transforms preparation\n",
    "3. Write a predict function for gradio to use\n",
    "4. Write the Gradio app and the launch command\n",
    "\"\"\"\n",
    "import os\n",
    "from typing import Tuple, Dict\n",
    "import PIL\n",
    "import torch\n",
    "import torchvision\n",
    "import gradio as gr\n",
    "from timeit import default_timer\n",
    "from model import create_effnetb2_model\n",
    "\n",
    "class_names = ['pizza', 'steak', 'sushi'] #hardcoded as a list\n",
    "model, transforms = create_effnetb2_model(num_classes = len(class_names))\n",
    "\n",
    "# Load saved weights into the model, and load the model onto the CPU\n",
    "model.load_state_dict(torch.load(f = \"finetuned_effnetb2_20percent.pth\"),\n",
    "                      map_location = torch.device('cpu'))\n",
    "\n",
    "# Write function to run inference on gradio\n",
    "def predict(img: PIL.Image, \n",
    "            model: nn.Module = model,\n",
    "            transforms: torchvision.transforms = transforms,\n",
    "            class_names: List[str] = class_names) -> Tuple[Dict, float]:\n",
    "    \"\"\"Function to predict image class on gradio\n",
    "\n",
    "    Args:\n",
    "        img (np.array): Image as a numpy array\n",
    "        model (nn.Module, optional): Model. Defaults to vit.\n",
    "        class_names (List[str], optional): List of class anmes. Defaults to class_names.\n",
    "\n",
    "    Returns:\n",
    "        Tuple[Dict, float]: Tuplefor further processing on gradio\n",
    "    \"\"\"\n",
    "    start_time = timer()\n",
    "    img = transforms(img).unsqueeze(0) #add batch dimension\n",
    "    model.eval()\n",
    "    with torch.inference_mode():\n",
    "        pred_probs = torch.softmax(model(img), dim = 1)\n",
    "    pred_labels_and_probs = {class_names[i]: float(pred_probs[0][i]) for i in range(len(class_names))}\n",
    "    end_time = timer()\n",
    "    pred_time = round(end_time - start_time, 4)\n",
    "    return pred_labels_and_probs, pred_time\n",
    "\n",
    "# Create example_list\n",
    "example_list = [[\"examples/\" + example] for example in os.listdir(\"examples\")]\n",
    "\n",
    "# Create Gradio App\n",
    "title = 'FoodVision Mini 🍕🥩🍣'\n",
    "description = \"Using a [Vision Transformer](https://arxiv.org/abs/2010.11929) for Image Classification\"\n",
    "article = \"Created by [Titus Lim](https://github.com/tituslhy)\"\n",
    "\n",
    "demo = gr.Interface(fn = predict,\n",
    "                    inputs = gr.Image(type = \"pil\"),\n",
    "                    outputs = [gr.Label(num_top_classes = 3, label = \"Predictions\"),\n",
    "                               gr.Number(label = \"Prediction time (s)\")],\n",
    "                    examples = example_list,\n",
    "                    title = title,\n",
    "                    description = description,\n",
    "                    article = article)\n",
    "\n",
    "# Launch demo\n",
    "demo.launch(debug = False, #prints errors locally\n",
    "            share = True # Generate a publicly shareable URL\n",
    "            )"
   ]
  },
  {
   "attachments": {},
   "cell_type": "markdown",
   "metadata": {},
   "source": [
    "Create requirements.txt"
   ]
  },
  {
   "cell_type": "code",
   "execution_count": 1,
   "metadata": {},
   "outputs": [
    {
     "name": "stdout",
     "output_type": "stream",
     "text": [
      "Writing demos/foodvision_mini/requirements.txt\n"
     ]
    }
   ],
   "source": [
    "%%writefile demos/foodvision_mini/requirements.txt\n",
    "gradio==3.41.2\n",
    "Pillow==9.5.0\n",
    "torch==2.0.1\n",
    "torchvision==0.15.2"
   ]
  },
  {
   "attachments": {},
   "cell_type": "markdown",
   "metadata": {},
   "source": [
    "### Upload FoodVision mini to HuggingFace Spaces\n",
    "Cloning the repo from HuggingFace spaces\n",
    "```\n",
    "cd notebooks/demos\n",
    "mkdir deploy\n",
    "git clone <huggingface repo link>\n",
    "cd <huggingface repo>\n",
    "cp -r ../../foodvision_mini/* .\n",
    "```\n",
    "\n",
    "Ensuring that we have git large file storage installed\n",
    "```\n",
    "brew install git-lfs\n",
    "git lfs install\n",
    "```\n",
    "\n",
    "Track large files using git lfs\n",
    "```\n",
    "git lfs track \"*.pth\"\n",
    "git add .gitattributes\n",
    "```\n",
    "\n",
    "Commit and push\n",
    "```\n",
    "git add *\n",
    "git commit -m \"initial commit\"\n",
    "git push\n",
    "```"
   ]
  },
  {
   "attachments": {},
   "cell_type": "markdown",
   "metadata": {},
   "source": [
    "Embed application in Notebook"
   ]
  },
  {
   "cell_type": "code",
   "execution_count": 3,
   "metadata": {},
   "outputs": [
    {
     "data": {
      "text/html": [
       "\n",
       "        <iframe\n",
       "            width=\"900\"\n",
       "            height=\"750\"\n",
       "            src=\"https://hf.space/embed/tituslhy/foodvision_mini\"\n",
       "            frameborder=\"0\"\n",
       "            allowfullscreen\n",
       "            \n",
       "        ></iframe>\n",
       "        "
      ],
      "text/plain": [
       "<IPython.lib.display.IFrame at 0x1067e3550>"
      ]
     },
     "execution_count": 3,
     "metadata": {},
     "output_type": "execute_result"
    }
   ],
   "source": [
    "from IPython.display import IFrame\n",
    "\n",
    "IFrame(src = \"https://hf.space/embed/tituslhy/foodvision_mini\",\n",
    "       width = 900,\n",
    "       height = 750)"
   ]
  }
 ],
 "metadata": {
  "kernelspec": {
   "display_name": "deeplearning",
   "language": "python",
   "name": "python3"
  },
  "language_info": {
   "codemirror_mode": {
    "name": "ipython",
    "version": 3
   },
   "file_extension": ".py",
   "mimetype": "text/x-python",
   "name": "python",
   "nbconvert_exporter": "python",
   "pygments_lexer": "ipython3",
   "version": "3.11.5"
  },
  "orig_nbformat": 4,
  "vscode": {
   "interpreter": {
    "hash": "592c8f2936c3bb8c4fbb52cdfc4075c16174c85ffa67c8cedffd3a3aa9257d1d"
   }
  }
 },
 "nbformat": 4,
 "nbformat_minor": 2
}
