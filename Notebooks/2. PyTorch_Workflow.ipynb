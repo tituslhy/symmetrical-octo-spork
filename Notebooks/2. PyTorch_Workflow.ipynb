{
 "cells": [
  {
   "cell_type": "code",
   "execution_count": 1,
   "metadata": {},
   "outputs": [],
   "source": [
    "import os\n",
    "import sys\n",
    "sys.path.append(os.path.join(os.getcwd(), \"../src\"))\n",
    "from utils import *"
   ]
  },
  {
   "cell_type": "code",
   "execution_count": 2,
   "metadata": {},
   "outputs": [],
   "source": [
    "import numpy as np\n",
    "import pandas as pd\n",
    "import torch\n",
    "from torch import nn\n",
    "from torchsummary import summary\n",
    "\n",
    "import matplotlib.pyplot as plt\n",
    "%matplotlib inline"
   ]
  },
  {
   "attachments": {},
   "cell_type": "markdown",
   "metadata": {},
   "source": [
    "## 1. Creating a simple dataset using the linear regression formula\n",
    "\n",
    "We'll use a linear regression to make a straight line with known parameters and see if the neural network can learn these parameters"
   ]
  },
  {
   "cell_type": "code",
   "execution_count": 3,
   "metadata": {},
   "outputs": [
    {
     "data": {
      "text/plain": [
       "(torch.Size([50, 1]), torch.Size([50, 1]))"
      ]
     },
     "execution_count": 3,
     "metadata": {},
     "output_type": "execute_result"
    }
   ],
   "source": [
    "weight, bias = 0.7, 0.3\n",
    "start, end, step = 0, 1, 0.02\n",
    "X = torch.arange(start, end, step).unsqueeze(dim=1) #Needed for modelling\n",
    "y = weight * X  + bias\n",
    "X.shape, y.shape"
   ]
  },
  {
   "attachments": {},
   "cell_type": "markdown",
   "metadata": {},
   "source": [
    "## 2. Train-test split"
   ]
  },
  {
   "cell_type": "code",
   "execution_count": 4,
   "metadata": {},
   "outputs": [
    {
     "data": {
      "text/plain": [
       "(torch.Size([40, 1]),\n",
       " torch.Size([10, 1]),\n",
       " torch.Size([40, 1]),\n",
       " torch.Size([10, 1]))"
      ]
     },
     "execution_count": 4,
     "metadata": {},
     "output_type": "execute_result"
    }
   ],
   "source": [
    "from sklearn.model_selection import train_test_split\n",
    "\n",
    "SEED = 42\n",
    "\n",
    "X_train, X_test, y_train, y_test = train_test_split(X, y, test_size = 0.2, random_state = SEED)\n",
    "X_train.shape, X_test.shape, y_train.shape, y_test.shape\n"
   ]
  },
  {
   "attachments": {},
   "cell_type": "markdown",
   "metadata": {},
   "source": [
    "## 3. Visualize data"
   ]
  },
  {
   "cell_type": "code",
   "execution_count": 31,
   "metadata": {},
   "outputs": [],
   "source": [
    "def plot_predictions(train_data = X_train,\n",
    "                     train_labels = y_train,\n",
    "                     test_data = X_test,\n",
    "                     test_labels = y_test,\n",
    "                     predictions = None):\n",
    "    \"\"\"Plots training data, test data and compares predictions\n",
    "\n",
    "    Args:\n",
    "        train_data (_type_, optional): _description_. Defaults to X_train.\n",
    "        train_labels (_type_, optional): _description_. Defaults to y_train.\n",
    "        test_data (_type_, optional): _description_. Defaults to X_test.\n",
    "        test_labels (_type_, optional): _description_. Defaults to y_test.\n",
    "        predictions (_type_, optional): _description_. Defaults to None.\n",
    "    \"\"\"\n",
    "    \n",
    "    plt.figure(figsize=(10,7))\n",
    "    plt.scatter(train_data, train_labels, c=\"b\",s=4,\n",
    "                label = \"Training data\")\n",
    "    plt.scatter(test_data, test_labels, c=\"r\", s=4, label=\"Testing data\")\n",
    "    plt.ylabel('y')\n",
    "    plt.xlabel('X')\n",
    "    if predictions is not None:\n",
    "        plt.scatter(test_data, predictions, c = \"k\", s=4, label=\"Model predictions\")\n",
    "    plt.legend()"
   ]
  },
  {
   "cell_type": "code",
   "execution_count": 32,
   "metadata": {},
   "outputs": [
    {
     "data": {
      "image/png": "[encoded data removed]",
      "text/plain": [
       "<Figure size 1000x700 with 1 Axes>"
      ]
     },
     "metadata": {},
     "output_type": "display_data"
    }
   ],
   "source": [
    "plot_predictions()"
   ]
  },
  {
   "attachments": {},
   "cell_type": "markdown",
   "metadata": {},
   "source": [
    "## 3. Creating our first PyTorch Model for Linear Regression\n",
    "The weights and bias are randomly initialized and updated with each epoch."
   ]
  },
  {
   "cell_type": "code",
   "execution_count": 39,
   "metadata": {},
   "outputs": [],
   "source": [
    "class LinearRegressionModel(nn.Module):\n",
    "    def __init__(self):\n",
    "        super().__init__()\n",
    "        self.weights = nn.Parameter(torch.rand(1,\n",
    "                                               requires_grad=True,\n",
    "                                               dtype=torch.float))\n",
    "        self.bias = nn.Parameter(torch.rand(1,\n",
    "                                            requires_grad=True,\n",
    "                                            dtype=torch.float))\n",
    "    def forward(self, X: torch.Tensor) -> torch.Tensor:\n",
    "        # Must always overwrite the nn.Module's forward function\n",
    "        return self.weights * X + self.bias"
   ]
  },
  {
   "cell_type": "code",
   "execution_count": 40,
   "metadata": {},
   "outputs": [
    {
     "data": {
      "text/plain": [
       "('mps', LinearRegressionModel())"
      ]
     },
     "execution_count": 40,
     "metadata": {},
     "output_type": "execute_result"
    }
   ],
   "source": [
    "SEED = 42\n",
    "torch.manual_seed(SEED)\n",
    "device = get_device()\n",
    "model = LinearRegressionModel()\n",
    "device, model"
   ]
  },
  {
   "cell_type": "code",
   "execution_count": 41,
   "metadata": {},
   "outputs": [
    {
     "data": {
      "text/plain": [
       "[Parameter containing:\n",
       " tensor([0.8823], requires_grad=True),\n",
       " Parameter containing:\n",
       " tensor([0.9150], requires_grad=True)]"
      ]
     },
     "execution_count": 41,
     "metadata": {},
     "output_type": "execute_result"
    }
   ],
   "source": [
    "list(model.parameters())"
   ]
  },
  {
   "attachments": {},
   "cell_type": "markdown",
   "metadata": {},
   "source": [
    "The model's state_dict contains the name of the parameter and the value"
   ]
  },
  {
   "cell_type": "code",
   "execution_count": 42,
   "metadata": {},
   "outputs": [
    {
     "data": {
      "text/plain": [
       "OrderedDict([('weights', tensor([0.8823])), ('bias', tensor([0.9150]))])"
      ]
     },
     "execution_count": 42,
     "metadata": {},
     "output_type": "execute_result"
    }
   ],
   "source": [
    "model.state_dict()"
   ]
  },
  {
   "attachments": {},
   "cell_type": "markdown",
   "metadata": {},
   "source": [
    "## 4. Making predictions with our randomly initialized model using inference mode"
   ]
  },
  {
   "cell_type": "code",
   "execution_count": 34,
   "metadata": {},
   "outputs": [
    {
     "data": {
      "text/plain": [
       "tensor([[1.1444],\n",
       "        [1.6032],\n",
       "        [1.4444],\n",
       "        [1.7090],\n",
       "        [1.2150],\n",
       "        [1.7620],\n",
       "        [1.3738],\n",
       "        [1.3561],\n",
       "        [1.4797],\n",
       "        [1.2503]], grad_fn=<AddBackward0>)"
      ]
     },
     "execution_count": 34,
     "metadata": {},
     "output_type": "execute_result"
    }
   ],
   "source": [
    "model(X_test)"
   ]
  },
  {
   "attachments": {},
   "cell_type": "markdown",
   "metadata": {},
   "source": [
    "The gradient is still tracked here.\n",
    "\n",
    "Can overcome this either by using\n",
    "* `torch.no_grad` or\n",
    "* `torch.inference_mode`\n",
    "\n",
    "`torch.inference_mode` is preferred in this context due to better performance as it disables view tracking and version counter bumps.\n",
    "\n",
    "`torch.no_grad` is used if you want to set the attribute on tensors back to `requires_grad`."
   ]
  },
  {
   "cell_type": "code",
   "execution_count": 24,
   "metadata": {},
   "outputs": [
    {
     "data": {
      "text/plain": [
       "tensor([[1.1444],\n",
       "        [1.6032],\n",
       "        [1.4444],\n",
       "        [1.7090],\n",
       "        [1.2150],\n",
       "        [1.7620],\n",
       "        [1.3738],\n",
       "        [1.3561],\n",
       "        [1.4797],\n",
       "        [1.2503]])"
      ]
     },
     "execution_count": 24,
     "metadata": {},
     "output_type": "execute_result"
    }
   ],
   "source": [
    "with torch.inference_mode(): #This turns off the gradient update\n",
    "    y_preds = model(X_test)\n",
    "\n",
    "y_preds"
   ]
  },
  {
   "cell_type": "code",
   "execution_count": 33,
   "metadata": {},
   "outputs": [
    {
     "data": {
      "image/png": "[encoded data removed]",
      "text/plain": [
       "<Figure size 1000x700 with 1 Axes>"
      ]
     },
     "metadata": {},
     "output_type": "display_data"
    }
   ],
   "source": [
    "plot_predictions(predictions = y_preds)"
   ]
  },
  {
   "attachments": {},
   "cell_type": "markdown",
   "metadata": {},
   "source": [
    "## 5. Training the model to see if we can get the ideal parameters for linear regression\n",
    "Here are some things we will need for model training:\n",
    "* The loss function we're trying to optimize is MAE, which is `torch.nn.L1Loss`.\n",
    "* We need an optimizer\n",
    "* Training loop (specific to PyTorch)\n",
    "* Testing loop (specific to PyTorch)"
   ]
  },
  {
   "cell_type": "code",
   "execution_count": 37,
   "metadata": {},
   "outputs": [],
   "source": [
    "loss_fn = nn.L1Loss()\n",
    "optimizer = torch.optim.SGD(params=model.parameters(),\n",
    "                            lr=0.01)"
   ]
  },
  {
   "attachments": {},
   "cell_type": "markdown",
   "metadata": {},
   "source": [
    "### Building training and testing loops in PyTorch\n",
    "We need to: \n",
    "* Loop through the data\n",
    "* Forward pass (involves data moving through our model's `forward` function)\n",
    "* Compute loss (compare forward pass predictions to ground truth labels)\n",
    "* Optimizer zero grad\n",
    "* Backpropogation - move backwards to calculate the gradients of each of the parameters of our model with respect to the loss.\n",
    "* Optimizer step - use the optimizer to reduce the value of the loss function by gradient descent "
   ]
  },
  {
   "cell_type": "code",
   "execution_count": 38,
   "metadata": {},
   "outputs": [
    {
     "name": "stdout",
     "output_type": "stream",
     "text": [
      "OrderedDict([('weights', tensor([0.8776])), ('bias', tensor([0.9050]))])\n"
     ]
    }
   ],
   "source": [
    "epochs = 100 #An epoch refers to one loop (pass) through the data\n",
    "epoch_set, train_loss, test_loss = [], [], []\n",
    "torch.manual_seed(SEED)\n",
    "\n",
    "for epoch in range(epochs):\n",
    "    # Set the model to training mode (all parameters -> requires grad)\n",
    "    model.train()\n",
    "    \n",
    "    # Forward pass\n",
    "    y_pred = model(X_train)\n",
    "    \n",
    "    # Compute loss\n",
    "    loss = loss_fn(y_pred, y_train)\n",
    "    \n",
    "    # Optimizer zero grad\n",
    "    optimizer.zero_grad()\n",
    "    \n",
    "    # Back propogation\n",
    "    loss.backward()\n",
    "    \n",
    "    # Perform gradient descent - the optimizer's changes accumulate\n",
    "    # through the loop. So we have to zero them above to start fresh\n",
    "    # for each pass through the loop\n",
    "    optimizer.step()\n",
    "    \n",
    "    print(model.state_dict())\n",
    "    \n",
    "    # Turn the model to evaluation mode\n",
    "    model.eval()\n",
    "    \n",
    "    # Turn off requires_grad flag and makes PyTorch run faster\n",
    "    # torch.no_grad is used for older PyTorch versions\n",
    "    with torch.inference_mode():\n",
    "        \n",
    "        # Get prediction on test set\n",
    "        test_pred = model(X_test)\n",
    "        \n",
    "        # Compute loss on test set\n",
    "        test_loss = loss_fn(test_pred, y_test)\n",
    "        \n",
    "        if epoch %10 == 0:\n",
    "            epoch_set.append(epoch)\n",
    "            train_loss.append(loss.detatch().numpy())\n",
    "            test_loss.append(test_loss.detatch().numpy())\n",
    "            print(f\"Epoch: {epoch} | MAE Train Loss: {loss} | MAE Test Loss: {test_loss}\")\n",
    "    "
   ]
  },
  {
   "cell_type": "code",
   "execution_count": null,
   "metadata": {},
   "outputs": [],
   "source": []
  }
 ],
 "metadata": {
  "kernelspec": {
   "display_name": "Python 3",
   "language": "python",
   "name": "python3"
  },
  "language_info": {
   "codemirror_mode": {
    "name": "ipython",
    "version": 3
   },
   "file_extension": ".py",
   "mimetype": "text/x-python",
   "name": "python",
   "nbconvert_exporter": "python",
   "pygments_lexer": "ipython3",
   "version": "3.10.9"
  },
  "orig_nbformat": 4,
  "vscode": {
   "interpreter": {
    "hash": "b0fa6594d8f4cbf19f97940f81e996739fb7646882a419484c72d19e05852a7e"
   }
  }
 },
 "nbformat": 4,
 "nbformat_minor": 2
}
