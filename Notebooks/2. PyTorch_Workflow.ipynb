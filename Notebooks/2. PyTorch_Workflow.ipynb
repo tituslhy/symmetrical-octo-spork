{
 "cells": [
  {
   "cell_type": "code",
   "execution_count": 1,
   "metadata": {},
   "outputs": [],
   "source": [
    "import os\n",
    "import sys\n",
    "sys.path.append(os.path.join(os.getcwd(), \"../src\"))\n",
    "from utils import *"
   ]
  },
  {
   "cell_type": "code",
   "execution_count": 2,
   "metadata": {},
   "outputs": [],
   "source": [
    "import numpy as np\n",
    "import pandas as pd\n",
    "import torch\n",
    "from torch import nn\n",
    "from torchsummary import summary\n",
    "\n",
    "import matplotlib.pyplot as plt\n",
    "%matplotlib inline"
   ]
  },
  {
   "attachments": {},
   "cell_type": "markdown",
   "metadata": {},
   "source": [
    "## 1. Creating a simple dataset using the linear regression formula\n",
    "\n",
    "We'll use a linear regression to make a straight line with known parameters and see if the neural network can learn these parameters"
   ]
  },
  {
   "cell_type": "code",
   "execution_count": 3,
   "metadata": {},
   "outputs": [
    {
     "data": {
      "text/plain": [
       "(torch.Size([50, 1]), torch.Size([50, 1]))"
      ]
     },
     "execution_count": 3,
     "metadata": {},
     "output_type": "execute_result"
    }
   ],
   "source": [
    "weight, bias = 0.7, 0.3\n",
    "start, end, step = 0, 1, 0.02\n",
    "X = torch.arange(start, end, step).unsqueeze(dim=1) #Needed for modelling\n",
    "y = weight * X  + bias\n",
    "X.shape, y.shape"
   ]
  },
  {
   "attachments": {},
   "cell_type": "markdown",
   "metadata": {},
   "source": [
    "## 2. Train-test split"
   ]
  },
  {
   "cell_type": "code",
   "execution_count": 4,
   "metadata": {},
   "outputs": [
    {
     "data": {
      "text/plain": [
       "(torch.Size([40, 1]),\n",
       " torch.Size([10, 1]),\n",
       " torch.Size([40, 1]),\n",
       " torch.Size([10, 1]))"
      ]
     },
     "execution_count": 4,
     "metadata": {},
     "output_type": "execute_result"
    }
   ],
   "source": [
    "from sklearn.model_selection import train_test_split\n",
    "\n",
    "SEED = 42\n",
    "\n",
    "X_train, X_test, y_train, y_test = train_test_split(X, y, test_size = 0.2, random_state = SEED)\n",
    "X_train.shape, X_test.shape, y_train.shape, y_test.shape\n"
   ]
  },
  {
   "attachments": {},
   "cell_type": "markdown",
   "metadata": {},
   "source": [
    "## 3. Visualize data"
   ]
  },
  {
   "cell_type": "code",
   "execution_count": 5,
   "metadata": {},
   "outputs": [],
   "source": [
    "def plot_predictions(train_data = X_train,\n",
    "                     train_labels = y_train,\n",
    "                     test_data = X_test,\n",
    "                     test_labels = y_test,\n",
    "                     predictions = None):\n",
    "    \"\"\"Plots training data, test data and compares predictions\n",
    "\n",
    "    Args:\n",
    "        train_data (_type_, optional): _description_. Defaults to X_train.\n",
    "        train_labels (_type_, optional): _description_. Defaults to y_train.\n",
    "        test_data (_type_, optional): _description_. Defaults to X_test.\n",
    "        test_labels (_type_, optional): _description_. Defaults to y_test.\n",
    "        predictions (_type_, optional): _description_. Defaults to None.\n",
    "    \"\"\"\n",
    "    \n",
    "    plt.figure(figsize=(10,7))\n",
    "    plt.scatter(train_data, train_labels, c=\"b\",s=4,\n",
    "                label = \"Training data\")\n",
    "    plt.scatter(test_data, test_labels, c=\"r\", s=4, label=\"Testing data\")\n",
    "    plt.ylabel('y')\n",
    "    plt.xlabel('X')\n",
    "    if predictions:\n",
    "        plt.scatter(test_data, predictions, c = \"k\", s=4, label=\"predictions\")"
   ]
  },
  {
   "cell_type": "code",
   "execution_count": 6,
   "metadata": {},
   "outputs": [
    {
     "data": {
      "image/png": "[encoded data removed]",
      "text/plain": [
       "<Figure size 1000x700 with 1 Axes>"
      ]
     },
     "metadata": {},
     "output_type": "display_data"
    }
   ],
   "source": [
    "plot_predictions()"
   ]
  },
  {
   "attachments": {},
   "cell_type": "markdown",
   "metadata": {},
   "source": [
    "## 3. Creating our first PyTorch Model for Linear Regression\n",
    "The weights and bias are randomly initialized and updated with each epoch."
   ]
  },
  {
   "cell_type": "code",
   "execution_count": 7,
   "metadata": {},
   "outputs": [],
   "source": [
    "class LinearRegressionModel(nn.Module):\n",
    "    def __init__(self):\n",
    "        super().__init__()\n",
    "        self.weights = nn.Parameter(torch.rand(1,\n",
    "                                               requires_grad=True,\n",
    "                                               dtype=torch.float))\n",
    "        self.bias = nn.Parameter(torch.rand(1,\n",
    "                                            requires_grad=True,\n",
    "                                            dtype=torch.float))\n",
    "    def forward(self, X: torch.Tensor) -> torch.Tensor:\n",
    "        return self.weights * X + self.bias"
   ]
  },
  {
   "cell_type": "code",
   "execution_count": 8,
   "metadata": {},
   "outputs": [
    {
     "data": {
      "text/plain": [
       "('mps', LinearRegressionModel())"
      ]
     },
     "execution_count": 8,
     "metadata": {},
     "output_type": "execute_result"
    }
   ],
   "source": [
    "device = get_device()\n",
    "model = LinearRegressionModel()\n",
    "device, model"
   ]
  },
  {
   "cell_type": "code",
   "execution_count": null,
   "metadata": {},
   "outputs": [],
   "source": []
  }
 ],
 "metadata": {
  "kernelspec": {
   "display_name": "Python 3",
   "language": "python",
   "name": "python3"
  },
  "language_info": {
   "codemirror_mode": {
    "name": "ipython",
    "version": 3
   },
   "file_extension": ".py",
   "mimetype": "text/x-python",
   "name": "python",
   "nbconvert_exporter": "python",
   "pygments_lexer": "ipython3",
   "version": "3.10.9"
  },
  "orig_nbformat": 4,
  "vscode": {
   "interpreter": {
    "hash": "b0fa6594d8f4cbf19f97940f81e996739fb7646882a419484c72d19e05852a7e"
   }
  }
 },
 "nbformat": 4,
 "nbformat_minor": 2
}
